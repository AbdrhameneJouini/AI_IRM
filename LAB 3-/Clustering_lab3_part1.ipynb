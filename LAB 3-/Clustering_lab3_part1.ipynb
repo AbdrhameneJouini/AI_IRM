{
 "cells": [
  {
   "cell_type": "markdown",
   "metadata": {},
   "source": [
    "**Clustering of a pseudo real dataset using KMeans**\n",
    "\n",
    "<u>To do :</u>\n",
    "\n",
    "Before applying Kmeans for the clustering, the dataset requires a <font color='red'>2-steps processing</font> :\n",
    "- <font color='red'>Processing 1 :</font> Transformation of the <font color='red'>raw dataset</font> into a <font color='red'>numerical format</font>\n",
    "- <font color='red'>Processing 2 :</font> Improve the quality of the numerical dataset and get a better version\n",
    "\n",
    "Once processing is completed, we apply the <font color='red'>clustering</font> on the processed dataset.\n",
    "\n",
    "<u>Note :</u> Replace whenever you find #? by the required python code"
   ]
  },
  {
   "cell_type": "markdown",
   "metadata": {},
   "source": [
    "**1. Understand & load the dataset**\n",
    "\n",
    "The dataset required for a machine learning problem is often a data table where :\n",
    "- The lines represent members of the target population.\n",
    "- The columns represent the characteristics/properties of the members.\n",
    "\n",
    "It is typically stored in a CSV file.\n",
    "\n",
    "In Python, the <font color='red'>Pandas library</font> allows you to load the data table as a dataframe.\n",
    "\n",
    "A dataframe is a two-dimensional data structure  whcih  is made up of 3 parts:\n",
    "- index: line indices\n",
    "- columns: column indices\n",
    "- values: data matrix\n",
    "\n",
    "In dataframe, the columns often have different types in their raw state: integers, real numbers, character strings, dates, etc."
   ]
  },
  {
   "cell_type": "code",
   "execution_count": 7,
   "metadata": {},
   "outputs": [],
   "source": [
    "# Import pandas module and give it as alias pd\n",
    "import pandas as pd"
   ]
  },
  {
   "cell_type": "code",
   "execution_count": 8,
   "metadata": {},
   "outputs": [
    {
     "ename": "FileNotFoundError",
     "evalue": "[Errno 2] No such file or directory: 'employees.csv'",
     "output_type": "error",
     "traceback": [
      "\u001b[1;31m---------------------------------------------------------------------------\u001b[0m",
      "\u001b[1;31mFileNotFoundError\u001b[0m                         Traceback (most recent call last)",
      "\u001b[1;32mc:\\Users\\abdou\\OneDrive\\Bureau\\AI\\AI_course\\LAB 3-\\Clustering_lab3_part1.ipynb Cell 4\u001b[0m line \u001b[0;36m6\n\u001b[0;32m      <a href='vscode-notebook-cell:/c%3A/Users/abdou/OneDrive/Bureau/AI/AI_course/LAB%203-/Clustering_lab3_part1.ipynb#W3sZmlsZQ%3D%3D?line=0'>1</a>\u001b[0m \u001b[39m# Load the dataset from CSV file into a pandas dataframe\u001b[39;00m\n\u001b[0;32m      <a href='vscode-notebook-cell:/c%3A/Users/abdou/OneDrive/Bureau/AI/AI_course/LAB%203-/Clustering_lab3_part1.ipynb#W3sZmlsZQ%3D%3D?line=1'>2</a>\u001b[0m \u001b[39m# The first posotional argument is the data path\u001b[39;00m\n\u001b[0;32m      <a href='vscode-notebook-cell:/c%3A/Users/abdou/OneDrive/Bureau/AI/AI_course/LAB%203-/Clustering_lab3_part1.ipynb#W3sZmlsZQ%3D%3D?line=2'>3</a>\u001b[0m \u001b[39m# header=0 means that the columns names of dataframe are taken from the first row in CSV file\u001b[39;00m\n\u001b[0;32m      <a href='vscode-notebook-cell:/c%3A/Users/abdou/OneDrive/Bureau/AI/AI_course/LAB%203-/Clustering_lab3_part1.ipynb#W3sZmlsZQ%3D%3D?line=3'>4</a>\u001b[0m \u001b[39m# index_col=0 means that the index of dataframe rows are taken from the first column of CSV file \u001b[39;00m\n\u001b[1;32m----> <a href='vscode-notebook-cell:/c%3A/Users/abdou/OneDrive/Bureau/AI/AI_course/LAB%203-/Clustering_lab3_part1.ipynb#W3sZmlsZQ%3D%3D?line=5'>6</a>\u001b[0m df_employes \u001b[39m=\u001b[39m pd\u001b[39m.\u001b[39;49mread_csv(\u001b[39m'\u001b[39;49m\u001b[39memployees.csv\u001b[39;49m\u001b[39m'\u001b[39;49m, header\u001b[39m=\u001b[39;49m\u001b[39m0\u001b[39;49m, index_col\u001b[39m=\u001b[39;49m\u001b[39m0\u001b[39;49m)\n",
      "File \u001b[1;32m~\\AppData\\Local\\Packages\\PythonSoftwareFoundation.Python.3.11_qbz5n2kfra8p0\\LocalCache\\local-packages\\Python311\\site-packages\\pandas\\io\\parsers\\readers.py:948\u001b[0m, in \u001b[0;36mread_csv\u001b[1;34m(filepath_or_buffer, sep, delimiter, header, names, index_col, usecols, dtype, engine, converters, true_values, false_values, skipinitialspace, skiprows, skipfooter, nrows, na_values, keep_default_na, na_filter, verbose, skip_blank_lines, parse_dates, infer_datetime_format, keep_date_col, date_parser, date_format, dayfirst, cache_dates, iterator, chunksize, compression, thousands, decimal, lineterminator, quotechar, quoting, doublequote, escapechar, comment, encoding, encoding_errors, dialect, on_bad_lines, delim_whitespace, low_memory, memory_map, float_precision, storage_options, dtype_backend)\u001b[0m\n\u001b[0;32m    935\u001b[0m kwds_defaults \u001b[39m=\u001b[39m _refine_defaults_read(\n\u001b[0;32m    936\u001b[0m     dialect,\n\u001b[0;32m    937\u001b[0m     delimiter,\n\u001b[1;32m   (...)\u001b[0m\n\u001b[0;32m    944\u001b[0m     dtype_backend\u001b[39m=\u001b[39mdtype_backend,\n\u001b[0;32m    945\u001b[0m )\n\u001b[0;32m    946\u001b[0m kwds\u001b[39m.\u001b[39mupdate(kwds_defaults)\n\u001b[1;32m--> 948\u001b[0m \u001b[39mreturn\u001b[39;00m _read(filepath_or_buffer, kwds)\n",
      "File \u001b[1;32m~\\AppData\\Local\\Packages\\PythonSoftwareFoundation.Python.3.11_qbz5n2kfra8p0\\LocalCache\\local-packages\\Python311\\site-packages\\pandas\\io\\parsers\\readers.py:611\u001b[0m, in \u001b[0;36m_read\u001b[1;34m(filepath_or_buffer, kwds)\u001b[0m\n\u001b[0;32m    608\u001b[0m _validate_names(kwds\u001b[39m.\u001b[39mget(\u001b[39m\"\u001b[39m\u001b[39mnames\u001b[39m\u001b[39m\"\u001b[39m, \u001b[39mNone\u001b[39;00m))\n\u001b[0;32m    610\u001b[0m \u001b[39m# Create the parser.\u001b[39;00m\n\u001b[1;32m--> 611\u001b[0m parser \u001b[39m=\u001b[39m TextFileReader(filepath_or_buffer, \u001b[39m*\u001b[39;49m\u001b[39m*\u001b[39;49mkwds)\n\u001b[0;32m    613\u001b[0m \u001b[39mif\u001b[39;00m chunksize \u001b[39mor\u001b[39;00m iterator:\n\u001b[0;32m    614\u001b[0m     \u001b[39mreturn\u001b[39;00m parser\n",
      "File \u001b[1;32m~\\AppData\\Local\\Packages\\PythonSoftwareFoundation.Python.3.11_qbz5n2kfra8p0\\LocalCache\\local-packages\\Python311\\site-packages\\pandas\\io\\parsers\\readers.py:1448\u001b[0m, in \u001b[0;36mTextFileReader.__init__\u001b[1;34m(self, f, engine, **kwds)\u001b[0m\n\u001b[0;32m   1445\u001b[0m     \u001b[39mself\u001b[39m\u001b[39m.\u001b[39moptions[\u001b[39m\"\u001b[39m\u001b[39mhas_index_names\u001b[39m\u001b[39m\"\u001b[39m] \u001b[39m=\u001b[39m kwds[\u001b[39m\"\u001b[39m\u001b[39mhas_index_names\u001b[39m\u001b[39m\"\u001b[39m]\n\u001b[0;32m   1447\u001b[0m \u001b[39mself\u001b[39m\u001b[39m.\u001b[39mhandles: IOHandles \u001b[39m|\u001b[39m \u001b[39mNone\u001b[39;00m \u001b[39m=\u001b[39m \u001b[39mNone\u001b[39;00m\n\u001b[1;32m-> 1448\u001b[0m \u001b[39mself\u001b[39m\u001b[39m.\u001b[39m_engine \u001b[39m=\u001b[39m \u001b[39mself\u001b[39;49m\u001b[39m.\u001b[39;49m_make_engine(f, \u001b[39mself\u001b[39;49m\u001b[39m.\u001b[39;49mengine)\n",
      "File \u001b[1;32m~\\AppData\\Local\\Packages\\PythonSoftwareFoundation.Python.3.11_qbz5n2kfra8p0\\LocalCache\\local-packages\\Python311\\site-packages\\pandas\\io\\parsers\\readers.py:1705\u001b[0m, in \u001b[0;36mTextFileReader._make_engine\u001b[1;34m(self, f, engine)\u001b[0m\n\u001b[0;32m   1703\u001b[0m     \u001b[39mif\u001b[39;00m \u001b[39m\"\u001b[39m\u001b[39mb\u001b[39m\u001b[39m\"\u001b[39m \u001b[39mnot\u001b[39;00m \u001b[39min\u001b[39;00m mode:\n\u001b[0;32m   1704\u001b[0m         mode \u001b[39m+\u001b[39m\u001b[39m=\u001b[39m \u001b[39m\"\u001b[39m\u001b[39mb\u001b[39m\u001b[39m\"\u001b[39m\n\u001b[1;32m-> 1705\u001b[0m \u001b[39mself\u001b[39m\u001b[39m.\u001b[39mhandles \u001b[39m=\u001b[39m get_handle(\n\u001b[0;32m   1706\u001b[0m     f,\n\u001b[0;32m   1707\u001b[0m     mode,\n\u001b[0;32m   1708\u001b[0m     encoding\u001b[39m=\u001b[39;49m\u001b[39mself\u001b[39;49m\u001b[39m.\u001b[39;49moptions\u001b[39m.\u001b[39;49mget(\u001b[39m\"\u001b[39;49m\u001b[39mencoding\u001b[39;49m\u001b[39m\"\u001b[39;49m, \u001b[39mNone\u001b[39;49;00m),\n\u001b[0;32m   1709\u001b[0m     compression\u001b[39m=\u001b[39;49m\u001b[39mself\u001b[39;49m\u001b[39m.\u001b[39;49moptions\u001b[39m.\u001b[39;49mget(\u001b[39m\"\u001b[39;49m\u001b[39mcompression\u001b[39;49m\u001b[39m\"\u001b[39;49m, \u001b[39mNone\u001b[39;49;00m),\n\u001b[0;32m   1710\u001b[0m     memory_map\u001b[39m=\u001b[39;49m\u001b[39mself\u001b[39;49m\u001b[39m.\u001b[39;49moptions\u001b[39m.\u001b[39;49mget(\u001b[39m\"\u001b[39;49m\u001b[39mmemory_map\u001b[39;49m\u001b[39m\"\u001b[39;49m, \u001b[39mFalse\u001b[39;49;00m),\n\u001b[0;32m   1711\u001b[0m     is_text\u001b[39m=\u001b[39;49mis_text,\n\u001b[0;32m   1712\u001b[0m     errors\u001b[39m=\u001b[39;49m\u001b[39mself\u001b[39;49m\u001b[39m.\u001b[39;49moptions\u001b[39m.\u001b[39;49mget(\u001b[39m\"\u001b[39;49m\u001b[39mencoding_errors\u001b[39;49m\u001b[39m\"\u001b[39;49m, \u001b[39m\"\u001b[39;49m\u001b[39mstrict\u001b[39;49m\u001b[39m\"\u001b[39;49m),\n\u001b[0;32m   1713\u001b[0m     storage_options\u001b[39m=\u001b[39;49m\u001b[39mself\u001b[39;49m\u001b[39m.\u001b[39;49moptions\u001b[39m.\u001b[39;49mget(\u001b[39m\"\u001b[39;49m\u001b[39mstorage_options\u001b[39;49m\u001b[39m\"\u001b[39;49m, \u001b[39mNone\u001b[39;49;00m),\n\u001b[0;32m   1714\u001b[0m )\n\u001b[0;32m   1715\u001b[0m \u001b[39massert\u001b[39;00m \u001b[39mself\u001b[39m\u001b[39m.\u001b[39mhandles \u001b[39mis\u001b[39;00m \u001b[39mnot\u001b[39;00m \u001b[39mNone\u001b[39;00m\n\u001b[0;32m   1716\u001b[0m f \u001b[39m=\u001b[39m \u001b[39mself\u001b[39m\u001b[39m.\u001b[39mhandles\u001b[39m.\u001b[39mhandle\n",
      "File \u001b[1;32m~\\AppData\\Local\\Packages\\PythonSoftwareFoundation.Python.3.11_qbz5n2kfra8p0\\LocalCache\\local-packages\\Python311\\site-packages\\pandas\\io\\common.py:863\u001b[0m, in \u001b[0;36mget_handle\u001b[1;34m(path_or_buf, mode, encoding, compression, memory_map, is_text, errors, storage_options)\u001b[0m\n\u001b[0;32m    858\u001b[0m \u001b[39melif\u001b[39;00m \u001b[39misinstance\u001b[39m(handle, \u001b[39mstr\u001b[39m):\n\u001b[0;32m    859\u001b[0m     \u001b[39m# Check whether the filename is to be opened in binary mode.\u001b[39;00m\n\u001b[0;32m    860\u001b[0m     \u001b[39m# Binary mode does not support 'encoding' and 'newline'.\u001b[39;00m\n\u001b[0;32m    861\u001b[0m     \u001b[39mif\u001b[39;00m ioargs\u001b[39m.\u001b[39mencoding \u001b[39mand\u001b[39;00m \u001b[39m\"\u001b[39m\u001b[39mb\u001b[39m\u001b[39m\"\u001b[39m \u001b[39mnot\u001b[39;00m \u001b[39min\u001b[39;00m ioargs\u001b[39m.\u001b[39mmode:\n\u001b[0;32m    862\u001b[0m         \u001b[39m# Encoding\u001b[39;00m\n\u001b[1;32m--> 863\u001b[0m         handle \u001b[39m=\u001b[39m \u001b[39mopen\u001b[39;49m(\n\u001b[0;32m    864\u001b[0m             handle,\n\u001b[0;32m    865\u001b[0m             ioargs\u001b[39m.\u001b[39;49mmode,\n\u001b[0;32m    866\u001b[0m             encoding\u001b[39m=\u001b[39;49mioargs\u001b[39m.\u001b[39;49mencoding,\n\u001b[0;32m    867\u001b[0m             errors\u001b[39m=\u001b[39;49merrors,\n\u001b[0;32m    868\u001b[0m             newline\u001b[39m=\u001b[39;49m\u001b[39m\"\u001b[39;49m\u001b[39m\"\u001b[39;49m,\n\u001b[0;32m    869\u001b[0m         )\n\u001b[0;32m    870\u001b[0m     \u001b[39melse\u001b[39;00m:\n\u001b[0;32m    871\u001b[0m         \u001b[39m# Binary mode\u001b[39;00m\n\u001b[0;32m    872\u001b[0m         handle \u001b[39m=\u001b[39m \u001b[39mopen\u001b[39m(handle, ioargs\u001b[39m.\u001b[39mmode)\n",
      "\u001b[1;31mFileNotFoundError\u001b[0m: [Errno 2] No such file or directory: 'employees.csv'"
     ]
    }
   ],
   "source": [
    "# Load the dataset from CSV file into a pandas dataframe\n",
    "# The first posotional argument is the data path\n",
    "# header=0 means that the columns names of dataframe are taken from the first row in CSV file\n",
    "# index_col=0 means that the index of dataframe rows are taken from the first column of CSV file \n",
    "\n",
    "df_employes = pd.read_csv('employes.csv', header=0, index_col=0)"
   ]
  },
  {
   "cell_type": "code",
   "execution_count": null,
   "metadata": {},
   "outputs": [
    {
     "data": {
      "text/html": [
       "<div>\n",
       "<style scoped>\n",
       "    .dataframe tbody tr th:only-of-type {\n",
       "        vertical-align: middle;\n",
       "    }\n",
       "\n",
       "    .dataframe tbody tr th {\n",
       "        vertical-align: top;\n",
       "    }\n",
       "\n",
       "    .dataframe thead th {\n",
       "        text-align: right;\n",
       "    }\n",
       "</style>\n",
       "<table border=\"1\" class=\"dataframe\">\n",
       "  <thead>\n",
       "    <tr style=\"text-align: right;\">\n",
       "      <th></th>\n",
       "      <th>salaire</th>\n",
       "      <th>prime</th>\n",
       "      <th>etat civil</th>\n",
       "      <th>date recrutement</th>\n",
       "    </tr>\n",
       "    <tr>\n",
       "      <th>nom</th>\n",
       "      <th></th>\n",
       "      <th></th>\n",
       "      <th></th>\n",
       "      <th></th>\n",
       "    </tr>\n",
       "  </thead>\n",
       "  <tbody>\n",
       "    <tr>\n",
       "      <th>Ali</th>\n",
       "      <td>1200.675</td>\n",
       "      <td>100.560</td>\n",
       "      <td>celibataire</td>\n",
       "      <td>20/10/2018</td>\n",
       "    </tr>\n",
       "    <tr>\n",
       "      <th>Sonia</th>\n",
       "      <td>2800.786</td>\n",
       "      <td>400.876</td>\n",
       "      <td>marie</td>\n",
       "      <td>30/11/2005</td>\n",
       "    </tr>\n",
       "    <tr>\n",
       "      <th>Rahma</th>\n",
       "      <td>NaN</td>\n",
       "      <td>130.987</td>\n",
       "      <td>celibataire</td>\n",
       "      <td>04/02/2017</td>\n",
       "    </tr>\n",
       "  </tbody>\n",
       "</table>\n",
       "</div>"
      ],
      "text/plain": [
       "        salaire    prime   etat civil date recrutement\n",
       "nom                                                   \n",
       "Ali    1200.675  100.560  celibataire       20/10/2018\n",
       "Sonia  2800.786  400.876        marie       30/11/2005\n",
       "Rahma       NaN  130.987  celibataire       04/02/2017"
      ]
     },
     "execution_count": 3,
     "metadata": {},
     "output_type": "execute_result"
    }
   ],
   "source": [
    "# Display the 3 first rows of dataframe\n",
    "df_employes.head(3)"
   ]
  },
  {
   "cell_type": "code",
   "execution_count": null,
   "metadata": {},
   "outputs": [
    {
     "data": {
      "text/plain": [
       "Index(['Ali', 'Sonia', 'Rahma', 'Salma', 'Ahmed', 'Saleh', 'Ameni', 'Mehdi',\n",
       "       'Salem', 'Sameh', 'Wajdi', 'Moufida'],\n",
       "      dtype='object', name='nom')"
      ]
     },
     "execution_count": 4,
     "metadata": {},
     "output_type": "execute_result"
    }
   ],
   "source": [
    "# dataframe index\n",
    "df_employes.index"
   ]
  },
  {
   "cell_type": "code",
   "execution_count": null,
   "metadata": {},
   "outputs": [
    {
     "data": {
      "text/plain": [
       "Index(['salaire', 'prime', 'etat civil', 'date recrutement'], dtype='object')"
      ]
     },
     "execution_count": 5,
     "metadata": {},
     "output_type": "execute_result"
    }
   ],
   "source": [
    "# dataframe columns\n",
    "df_employes.columns"
   ]
  },
  {
   "cell_type": "code",
   "execution_count": null,
   "metadata": {},
   "outputs": [
    {
     "data": {
      "text/plain": [
       "array([[1200.675, 100.56, 'celibataire', '20/10/2018'],\n",
       "       [2800.786, 400.876, 'marie', '30/11/2005'],\n",
       "       [nan, 130.987, 'celibataire', '04/02/2017'],\n",
       "       [2500.876, 340.6, 'marie', '03/02/2010'],\n",
       "       [3100.76, nan, 'marie', '09/09/2004'],\n",
       "       [1300.876, 150.9, 'celibataire', '01/01/2017'],\n",
       "       [1100.66, 130.87, 'celibataire', '11/05/2019'],\n",
       "       [3000.76, nan, 'marie', '07/07/2000'],\n",
       "       [1505.76, 159.7, 'celibataire', '21/11/2017'],\n",
       "       [2700.33, 400.0, 'marie', '19/02/1999'],\n",
       "       [1200.98, nan, 'celibataire', '27/11/2015'],\n",
       "       [3700.44, 500.0, 'marie', '09/12/1991']], dtype=object)"
      ]
     },
     "execution_count": 6,
     "metadata": {},
     "output_type": "execute_result"
    }
   ],
   "source": [
    "# dataframe data values\n",
    "df_employes.values"
   ]
  },
  {
   "cell_type": "code",
   "execution_count": null,
   "metadata": {},
   "outputs": [
    {
     "data": {
      "text/plain": [
       "nom\n",
       "Ali        1200.675\n",
       "Sonia      2800.786\n",
       "Rahma           NaN\n",
       "Salma      2500.876\n",
       "Ahmed      3100.760\n",
       "Saleh      1300.876\n",
       "Ameni      1100.660\n",
       "Mehdi      3000.760\n",
       "Salem      1505.760\n",
       "Sameh      2700.330\n",
       "Wajdi      1200.980\n",
       "Moufida    3700.440\n",
       "Name: salaire, dtype: float64"
      ]
     },
     "execution_count": 7,
     "metadata": {},
     "output_type": "execute_result"
    }
   ],
   "source": [
    "# Using iloc operator, we can select any part of dataframe based on numerical indices\n",
    "# For example, select the first column\n",
    "df_employes.iloc[:,0]"
   ]
  },
  {
   "cell_type": "code",
   "execution_count": null,
   "metadata": {},
   "outputs": [
    {
     "data": {
      "text/plain": [
       "nom\n",
       "Ali        1200.675\n",
       "Sonia      2800.786\n",
       "Rahma           NaN\n",
       "Salma      2500.876\n",
       "Ahmed      3100.760\n",
       "Saleh      1300.876\n",
       "Ameni      1100.660\n",
       "Mehdi      3000.760\n",
       "Salem      1505.760\n",
       "Sameh      2700.330\n",
       "Wajdi      1200.980\n",
       "Moufida    3700.440\n",
       "Name: salaire, dtype: float64"
      ]
     },
     "execution_count": 8,
     "metadata": {},
     "output_type": "execute_result"
    }
   ],
   "source": [
    "# Using loc operator,we can select any part of dataframe based on row and column labels\n",
    "# For example, select the 'salaire' column\n",
    "df_employes.loc[:,'salaire']"
   ]
  },
  {
   "cell_type": "code",
   "execution_count": null,
   "metadata": {},
   "outputs": [
    {
     "data": {
      "text/html": [
       "<div>\n",
       "<style scoped>\n",
       "    .dataframe tbody tr th:only-of-type {\n",
       "        vertical-align: middle;\n",
       "    }\n",
       "\n",
       "    .dataframe tbody tr th {\n",
       "        vertical-align: top;\n",
       "    }\n",
       "\n",
       "    .dataframe thead th {\n",
       "        text-align: right;\n",
       "    }\n",
       "</style>\n",
       "<table border=\"1\" class=\"dataframe\">\n",
       "  <thead>\n",
       "    <tr style=\"text-align: right;\">\n",
       "      <th></th>\n",
       "      <th>prime</th>\n",
       "      <th>etat civil</th>\n",
       "    </tr>\n",
       "    <tr>\n",
       "      <th>nom</th>\n",
       "      <th></th>\n",
       "      <th></th>\n",
       "    </tr>\n",
       "  </thead>\n",
       "  <tbody>\n",
       "    <tr>\n",
       "      <th>Salma</th>\n",
       "      <td>340.6</td>\n",
       "      <td>marie</td>\n",
       "    </tr>\n",
       "    <tr>\n",
       "      <th>Ahmed</th>\n",
       "      <td>NaN</td>\n",
       "      <td>marie</td>\n",
       "    </tr>\n",
       "  </tbody>\n",
       "</table>\n",
       "</div>"
      ],
      "text/plain": [
       "       prime etat civil\n",
       "nom                    \n",
       "Salma  340.6      marie\n",
       "Ahmed    NaN      marie"
      ]
     },
     "execution_count": 9,
     "metadata": {},
     "output_type": "execute_result"
    }
   ],
   "source": [
    "# For example, we can select 'prime' and 'etat civil' of 'Salma' and 'Ahmed'\n",
    "df_employes.loc[['Salma','Ahmed'],['prime','etat civil']]"
   ]
  },
  {
   "cell_type": "code",
   "execution_count": null,
   "metadata": {},
   "outputs": [
    {
     "data": {
      "text/plain": [
       "nom\n",
       "Ali        1200.675\n",
       "Sonia      2800.786\n",
       "Rahma           NaN\n",
       "Salma      2500.876\n",
       "Ahmed      3100.760\n",
       "Saleh      1300.876\n",
       "Ameni      1100.660\n",
       "Mehdi      3000.760\n",
       "Salem      1505.760\n",
       "Sameh      2700.330\n",
       "Wajdi      1200.980\n",
       "Moufida    3700.440\n",
       "Name: salaire, dtype: float64"
      ]
     },
     "execution_count": 10,
     "metadata": {},
     "output_type": "execute_result"
    }
   ],
   "source": [
    "# To get 'salaire' column\n",
    "df_employes.loc[:,'salaire']"
   ]
  },
  {
   "cell_type": "code",
   "execution_count": null,
   "metadata": {},
   "outputs": [
    {
     "data": {
      "text/plain": [
       "nom\n",
       "Ali        1200.675\n",
       "Sonia      2800.786\n",
       "Rahma           NaN\n",
       "Salma      2500.876\n",
       "Ahmed      3100.760\n",
       "Saleh      1300.876\n",
       "Ameni      1100.660\n",
       "Mehdi      3000.760\n",
       "Salem      1505.760\n",
       "Sameh      2700.330\n",
       "Wajdi      1200.980\n",
       "Moufida    3700.440\n",
       "Name: salaire, dtype: float64"
      ]
     },
     "execution_count": 11,
     "metadata": {},
     "output_type": "execute_result"
    }
   ],
   "source": [
    "# To get 'salaire' column\n",
    "df_employes['salaire']"
   ]
  },
  {
   "cell_type": "code",
   "execution_count": null,
   "metadata": {},
   "outputs": [],
   "source": [
    "# Create a copy of the dataframe denoted df_\n",
    "# The subsequent processing will be performed on the copy\n",
    "df_ = df_employes.copy()"
   ]
  },
  {
   "cell_type": "markdown",
   "metadata": {},
   "source": [
    "**2. Processing 1 : Transformation of the raw dataset into a numerical format**\n",
    "\n",
    "To do it, we follow these steps :\n",
    "1. We replace the <font color='red'>NaN</font> values by appropriate values\n",
    "2. The <font color='red'>datetime column</font> is replaced by a column of integer values (like a 'annee recrutement' or 'anciennete' or ...)\n",
    "3. The <font color='red'>discerete values</font> of column 'etat civil' are replaced by numerical values encoded using <font color='red'>One Hot Encoding (OHE)</font>"
   ]
  },
  {
   "cell_type": "markdown",
   "metadata": {},
   "source": [
    "**1.1. Replace Missing values (NaN)**\n",
    "\n",
    "There are often some missing values in the dataset.\n",
    "\n",
    "When the dataset is loaded, these missing values are represented as NaN values by pandas.\n",
    "\n"
   ]
  },
  {
   "cell_type": "code",
   "execution_count": null,
   "metadata": {},
   "outputs": [],
   "source": [
    "# Compute mean values of 'salaire' and 'prime' columns\n",
    "mean_salaire=df_['salaire'].mean()\n",
    "mean_prime=df_['prime'].mean()"
   ]
  },
  {
   "cell_type": "code",
   "execution_count": null,
   "metadata": {},
   "outputs": [
    {
     "data": {
      "text/plain": [
       "2192.0820909090908"
      ]
     },
     "execution_count": 14,
     "metadata": {},
     "output_type": "execute_result"
    }
   ],
   "source": [
    "mean_salaire"
   ]
  },
  {
   "cell_type": "code",
   "execution_count": null,
   "metadata": {},
   "outputs": [
    {
     "data": {
      "text/plain": [
       "257.1658888888889"
      ]
     },
     "execution_count": 15,
     "metadata": {},
     "output_type": "execute_result"
    }
   ],
   "source": [
    "mean_prime"
   ]
  },
  {
   "cell_type": "code",
   "execution_count": null,
   "metadata": {},
   "outputs": [],
   "source": [
    "# Replace NaN values in 'salaire' and 'prime' colulmns by mean values\n",
    "\n",
    "# We call df_.fillna() function :\n",
    "# Its arguments are :\n",
    "# - a dictionary that contains pairs as many as columns that have NaN values:\n",
    "#  => Each pair is composed of name_column (as key) and mean_value (as value) \n",
    "# - inplace=True : means that the replacement is performed on df_employes itself\n",
    "df_.fillna({\"salaire\" : mean_salaire , \"prime\" : mean_prime},\n",
    "                    inplace=True)"
   ]
  },
  {
   "cell_type": "code",
   "execution_count": null,
   "metadata": {},
   "outputs": [
    {
     "data": {
      "text/html": [
       "<div>\n",
       "<style scoped>\n",
       "    .dataframe tbody tr th:only-of-type {\n",
       "        vertical-align: middle;\n",
       "    }\n",
       "\n",
       "    .dataframe tbody tr th {\n",
       "        vertical-align: top;\n",
       "    }\n",
       "\n",
       "    .dataframe thead th {\n",
       "        text-align: right;\n",
       "    }\n",
       "</style>\n",
       "<table border=\"1\" class=\"dataframe\">\n",
       "  <thead>\n",
       "    <tr style=\"text-align: right;\">\n",
       "      <th></th>\n",
       "      <th>salaire</th>\n",
       "      <th>prime</th>\n",
       "      <th>etat civil</th>\n",
       "      <th>date recrutement</th>\n",
       "    </tr>\n",
       "    <tr>\n",
       "      <th>nom</th>\n",
       "      <th></th>\n",
       "      <th></th>\n",
       "      <th></th>\n",
       "      <th></th>\n",
       "    </tr>\n",
       "  </thead>\n",
       "  <tbody>\n",
       "    <tr>\n",
       "      <th>Ali</th>\n",
       "      <td>1200.675000</td>\n",
       "      <td>100.560000</td>\n",
       "      <td>celibataire</td>\n",
       "      <td>20/10/2018</td>\n",
       "    </tr>\n",
       "    <tr>\n",
       "      <th>Sonia</th>\n",
       "      <td>2800.786000</td>\n",
       "      <td>400.876000</td>\n",
       "      <td>marie</td>\n",
       "      <td>30/11/2005</td>\n",
       "    </tr>\n",
       "    <tr>\n",
       "      <th>Rahma</th>\n",
       "      <td>2192.082091</td>\n",
       "      <td>130.987000</td>\n",
       "      <td>celibataire</td>\n",
       "      <td>04/02/2017</td>\n",
       "    </tr>\n",
       "    <tr>\n",
       "      <th>Salma</th>\n",
       "      <td>2500.876000</td>\n",
       "      <td>340.600000</td>\n",
       "      <td>marie</td>\n",
       "      <td>03/02/2010</td>\n",
       "    </tr>\n",
       "    <tr>\n",
       "      <th>Ahmed</th>\n",
       "      <td>3100.760000</td>\n",
       "      <td>257.165889</td>\n",
       "      <td>marie</td>\n",
       "      <td>09/09/2004</td>\n",
       "    </tr>\n",
       "    <tr>\n",
       "      <th>Saleh</th>\n",
       "      <td>1300.876000</td>\n",
       "      <td>150.900000</td>\n",
       "      <td>celibataire</td>\n",
       "      <td>01/01/2017</td>\n",
       "    </tr>\n",
       "    <tr>\n",
       "      <th>Ameni</th>\n",
       "      <td>1100.660000</td>\n",
       "      <td>130.870000</td>\n",
       "      <td>celibataire</td>\n",
       "      <td>11/05/2019</td>\n",
       "    </tr>\n",
       "    <tr>\n",
       "      <th>Mehdi</th>\n",
       "      <td>3000.760000</td>\n",
       "      <td>257.165889</td>\n",
       "      <td>marie</td>\n",
       "      <td>07/07/2000</td>\n",
       "    </tr>\n",
       "    <tr>\n",
       "      <th>Salem</th>\n",
       "      <td>1505.760000</td>\n",
       "      <td>159.700000</td>\n",
       "      <td>celibataire</td>\n",
       "      <td>21/11/2017</td>\n",
       "    </tr>\n",
       "    <tr>\n",
       "      <th>Sameh</th>\n",
       "      <td>2700.330000</td>\n",
       "      <td>400.000000</td>\n",
       "      <td>marie</td>\n",
       "      <td>19/02/1999</td>\n",
       "    </tr>\n",
       "    <tr>\n",
       "      <th>Wajdi</th>\n",
       "      <td>1200.980000</td>\n",
       "      <td>257.165889</td>\n",
       "      <td>celibataire</td>\n",
       "      <td>27/11/2015</td>\n",
       "    </tr>\n",
       "    <tr>\n",
       "      <th>Moufida</th>\n",
       "      <td>3700.440000</td>\n",
       "      <td>500.000000</td>\n",
       "      <td>marie</td>\n",
       "      <td>09/12/1991</td>\n",
       "    </tr>\n",
       "  </tbody>\n",
       "</table>\n",
       "</div>"
      ],
      "text/plain": [
       "             salaire       prime   etat civil date recrutement\n",
       "nom                                                           \n",
       "Ali      1200.675000  100.560000  celibataire       20/10/2018\n",
       "Sonia    2800.786000  400.876000        marie       30/11/2005\n",
       "Rahma    2192.082091  130.987000  celibataire       04/02/2017\n",
       "Salma    2500.876000  340.600000        marie       03/02/2010\n",
       "Ahmed    3100.760000  257.165889        marie       09/09/2004\n",
       "Saleh    1300.876000  150.900000  celibataire       01/01/2017\n",
       "Ameni    1100.660000  130.870000  celibataire       11/05/2019\n",
       "Mehdi    3000.760000  257.165889        marie       07/07/2000\n",
       "Salem    1505.760000  159.700000  celibataire       21/11/2017\n",
       "Sameh    2700.330000  400.000000        marie       19/02/1999\n",
       "Wajdi    1200.980000  257.165889  celibataire       27/11/2015\n",
       "Moufida  3700.440000  500.000000        marie       09/12/1991"
      ]
     },
     "execution_count": 17,
     "metadata": {},
     "output_type": "execute_result"
    }
   ],
   "source": [
    "# Check that NaN values are replaced in the dataframe\n",
    "df_"
   ]
  },
  {
   "cell_type": "markdown",
   "metadata": {},
   "source": [
    "**1.2. Replace the datetime column 'date recrutement' by a numerical column**"
   ]
  },
  {
   "cell_type": "code",
   "execution_count": null,
   "metadata": {},
   "outputs": [
    {
     "data": {
      "text/plain": [
       "salaire             float64\n",
       "prime               float64\n",
       "etat civil           object\n",
       "date recrutement     object\n",
       "dtype: object"
      ]
     },
     "execution_count": 18,
     "metadata": {},
     "output_type": "execute_result"
    }
   ],
   "source": [
    "# Check the data type of 'date recrutement' column\n",
    "df_.dtypes"
   ]
  },
  {
   "cell_type": "code",
   "execution_count": null,
   "metadata": {},
   "outputs": [],
   "source": [
    "# Convert the data type of the 'date recrutement' column to 'datetime' type\n",
    "# Use the function pd.to_datetime() and pass the column 'date recrutement' as argument\n",
    "\n",
    "df_['date recrutement']= pd.to_datetime(df_[\"date recrutement\"],dayfirst = True )"
   ]
  },
  {
   "cell_type": "code",
   "execution_count": null,
   "metadata": {},
   "outputs": [
    {
     "data": {
      "text/plain": [
       "salaire                    float64\n",
       "prime                      float64\n",
       "etat civil                  object\n",
       "date recrutement    datetime64[ns]\n",
       "dtype: object"
      ]
     },
     "execution_count": 20,
     "metadata": {},
     "output_type": "execute_result"
    }
   ],
   "source": [
    "# Check the data type of 'date recrutement' column after convertion\n",
    "df_.dtypes"
   ]
  },
  {
   "cell_type": "code",
   "execution_count": null,
   "metadata": {},
   "outputs": [
    {
     "data": {
      "text/html": [
       "<div>\n",
       "<style scoped>\n",
       "    .dataframe tbody tr th:only-of-type {\n",
       "        vertical-align: middle;\n",
       "    }\n",
       "\n",
       "    .dataframe tbody tr th {\n",
       "        vertical-align: top;\n",
       "    }\n",
       "\n",
       "    .dataframe thead th {\n",
       "        text-align: right;\n",
       "    }\n",
       "</style>\n",
       "<table border=\"1\" class=\"dataframe\">\n",
       "  <thead>\n",
       "    <tr style=\"text-align: right;\">\n",
       "      <th></th>\n",
       "      <th>salaire</th>\n",
       "      <th>prime</th>\n",
       "      <th>etat civil</th>\n",
       "      <th>date recrutement</th>\n",
       "      <th>anciennete</th>\n",
       "    </tr>\n",
       "    <tr>\n",
       "      <th>nom</th>\n",
       "      <th></th>\n",
       "      <th></th>\n",
       "      <th></th>\n",
       "      <th></th>\n",
       "      <th></th>\n",
       "    </tr>\n",
       "  </thead>\n",
       "  <tbody>\n",
       "    <tr>\n",
       "      <th>Ali</th>\n",
       "      <td>1200.675000</td>\n",
       "      <td>100.560000</td>\n",
       "      <td>celibataire</td>\n",
       "      <td>2018-10-20</td>\n",
       "      <td>5</td>\n",
       "    </tr>\n",
       "    <tr>\n",
       "      <th>Sonia</th>\n",
       "      <td>2800.786000</td>\n",
       "      <td>400.876000</td>\n",
       "      <td>marie</td>\n",
       "      <td>2005-11-30</td>\n",
       "      <td>18</td>\n",
       "    </tr>\n",
       "    <tr>\n",
       "      <th>Rahma</th>\n",
       "      <td>2192.082091</td>\n",
       "      <td>130.987000</td>\n",
       "      <td>celibataire</td>\n",
       "      <td>2017-02-04</td>\n",
       "      <td>6</td>\n",
       "    </tr>\n",
       "    <tr>\n",
       "      <th>Salma</th>\n",
       "      <td>2500.876000</td>\n",
       "      <td>340.600000</td>\n",
       "      <td>marie</td>\n",
       "      <td>2010-02-03</td>\n",
       "      <td>13</td>\n",
       "    </tr>\n",
       "    <tr>\n",
       "      <th>Ahmed</th>\n",
       "      <td>3100.760000</td>\n",
       "      <td>257.165889</td>\n",
       "      <td>marie</td>\n",
       "      <td>2004-09-09</td>\n",
       "      <td>19</td>\n",
       "    </tr>\n",
       "    <tr>\n",
       "      <th>Saleh</th>\n",
       "      <td>1300.876000</td>\n",
       "      <td>150.900000</td>\n",
       "      <td>celibataire</td>\n",
       "      <td>2017-01-01</td>\n",
       "      <td>6</td>\n",
       "    </tr>\n",
       "    <tr>\n",
       "      <th>Ameni</th>\n",
       "      <td>1100.660000</td>\n",
       "      <td>130.870000</td>\n",
       "      <td>celibataire</td>\n",
       "      <td>2019-05-11</td>\n",
       "      <td>4</td>\n",
       "    </tr>\n",
       "    <tr>\n",
       "      <th>Mehdi</th>\n",
       "      <td>3000.760000</td>\n",
       "      <td>257.165889</td>\n",
       "      <td>marie</td>\n",
       "      <td>2000-07-07</td>\n",
       "      <td>23</td>\n",
       "    </tr>\n",
       "    <tr>\n",
       "      <th>Salem</th>\n",
       "      <td>1505.760000</td>\n",
       "      <td>159.700000</td>\n",
       "      <td>celibataire</td>\n",
       "      <td>2017-11-21</td>\n",
       "      <td>6</td>\n",
       "    </tr>\n",
       "    <tr>\n",
       "      <th>Sameh</th>\n",
       "      <td>2700.330000</td>\n",
       "      <td>400.000000</td>\n",
       "      <td>marie</td>\n",
       "      <td>1999-02-19</td>\n",
       "      <td>24</td>\n",
       "    </tr>\n",
       "    <tr>\n",
       "      <th>Wajdi</th>\n",
       "      <td>1200.980000</td>\n",
       "      <td>257.165889</td>\n",
       "      <td>celibataire</td>\n",
       "      <td>2015-11-27</td>\n",
       "      <td>8</td>\n",
       "    </tr>\n",
       "    <tr>\n",
       "      <th>Moufida</th>\n",
       "      <td>3700.440000</td>\n",
       "      <td>500.000000</td>\n",
       "      <td>marie</td>\n",
       "      <td>1991-12-09</td>\n",
       "      <td>32</td>\n",
       "    </tr>\n",
       "  </tbody>\n",
       "</table>\n",
       "</div>"
      ],
      "text/plain": [
       "             salaire       prime   etat civil date recrutement  anciennete\n",
       "nom                                                                       \n",
       "Ali      1200.675000  100.560000  celibataire       2018-10-20           5\n",
       "Sonia    2800.786000  400.876000        marie       2005-11-30          18\n",
       "Rahma    2192.082091  130.987000  celibataire       2017-02-04           6\n",
       "Salma    2500.876000  340.600000        marie       2010-02-03          13\n",
       "Ahmed    3100.760000  257.165889        marie       2004-09-09          19\n",
       "Saleh    1300.876000  150.900000  celibataire       2017-01-01           6\n",
       "Ameni    1100.660000  130.870000  celibataire       2019-05-11           4\n",
       "Mehdi    3000.760000  257.165889        marie       2000-07-07          23\n",
       "Salem    1505.760000  159.700000  celibataire       2017-11-21           6\n",
       "Sameh    2700.330000  400.000000        marie       1999-02-19          24\n",
       "Wajdi    1200.980000  257.165889  celibataire       2015-11-27           8\n",
       "Moufida  3700.440000  500.000000        marie       1991-12-09          32"
      ]
     },
     "execution_count": 21,
     "metadata": {},
     "output_type": "execute_result"
    }
   ],
   "source": [
    "# Create a new column 'anciennete' computed from 'date recrutement' column\n",
    "# anciennete = annee courante - annee recrutement\n",
    "# To compute a new column from an existing column, use this trick :\n",
    "# new_column = exist_column.apply(lambda_expression)\n",
    "# The lambda expression is applied on each value of exist_column to generate a value in the new column\n",
    "# Example :define a lambda expression called square that computes and returns the square value of x is defined as follows :\n",
    "#          square = lambda x : x**2\n",
    "\n",
    "# Import datetime data type from datetime module\n",
    "from datetime import datetime\n",
    "\n",
    "# The following tricks would help you :\n",
    "# - datetime.now() : returns the current datetime\n",
    "# - let d be a datetime variable, then d.year is the year (int)\n",
    "\n",
    "\n",
    "df_['anciennete'] = df_['date recrutement'].apply( lambda x :  datetime.now().year - x.year   )\n",
    "df_"
   ]
  },
  {
   "cell_type": "code",
   "execution_count": null,
   "metadata": {},
   "outputs": [
    {
     "data": {
      "text/html": [
       "<div>\n",
       "<style scoped>\n",
       "    .dataframe tbody tr th:only-of-type {\n",
       "        vertical-align: middle;\n",
       "    }\n",
       "\n",
       "    .dataframe tbody tr th {\n",
       "        vertical-align: top;\n",
       "    }\n",
       "\n",
       "    .dataframe thead th {\n",
       "        text-align: right;\n",
       "    }\n",
       "</style>\n",
       "<table border=\"1\" class=\"dataframe\">\n",
       "  <thead>\n",
       "    <tr style=\"text-align: right;\">\n",
       "      <th></th>\n",
       "      <th>salaire</th>\n",
       "      <th>prime</th>\n",
       "      <th>etat civil</th>\n",
       "      <th>date recrutement</th>\n",
       "      <th>anciennete</th>\n",
       "    </tr>\n",
       "    <tr>\n",
       "      <th>nom</th>\n",
       "      <th></th>\n",
       "      <th></th>\n",
       "      <th></th>\n",
       "      <th></th>\n",
       "      <th></th>\n",
       "    </tr>\n",
       "  </thead>\n",
       "  <tbody>\n",
       "    <tr>\n",
       "      <th>Ali</th>\n",
       "      <td>1200.675000</td>\n",
       "      <td>100.560000</td>\n",
       "      <td>celibataire</td>\n",
       "      <td>2018-10-20</td>\n",
       "      <td>5</td>\n",
       "    </tr>\n",
       "    <tr>\n",
       "      <th>Sonia</th>\n",
       "      <td>2800.786000</td>\n",
       "      <td>400.876000</td>\n",
       "      <td>marie</td>\n",
       "      <td>2005-11-30</td>\n",
       "      <td>18</td>\n",
       "    </tr>\n",
       "    <tr>\n",
       "      <th>Rahma</th>\n",
       "      <td>2192.082091</td>\n",
       "      <td>130.987000</td>\n",
       "      <td>celibataire</td>\n",
       "      <td>2017-02-04</td>\n",
       "      <td>6</td>\n",
       "    </tr>\n",
       "    <tr>\n",
       "      <th>Salma</th>\n",
       "      <td>2500.876000</td>\n",
       "      <td>340.600000</td>\n",
       "      <td>marie</td>\n",
       "      <td>2010-02-03</td>\n",
       "      <td>13</td>\n",
       "    </tr>\n",
       "    <tr>\n",
       "      <th>Ahmed</th>\n",
       "      <td>3100.760000</td>\n",
       "      <td>257.165889</td>\n",
       "      <td>marie</td>\n",
       "      <td>2004-09-09</td>\n",
       "      <td>19</td>\n",
       "    </tr>\n",
       "    <tr>\n",
       "      <th>Saleh</th>\n",
       "      <td>1300.876000</td>\n",
       "      <td>150.900000</td>\n",
       "      <td>celibataire</td>\n",
       "      <td>2017-01-01</td>\n",
       "      <td>6</td>\n",
       "    </tr>\n",
       "    <tr>\n",
       "      <th>Ameni</th>\n",
       "      <td>1100.660000</td>\n",
       "      <td>130.870000</td>\n",
       "      <td>celibataire</td>\n",
       "      <td>2019-05-11</td>\n",
       "      <td>4</td>\n",
       "    </tr>\n",
       "    <tr>\n",
       "      <th>Mehdi</th>\n",
       "      <td>3000.760000</td>\n",
       "      <td>257.165889</td>\n",
       "      <td>marie</td>\n",
       "      <td>2000-07-07</td>\n",
       "      <td>23</td>\n",
       "    </tr>\n",
       "    <tr>\n",
       "      <th>Salem</th>\n",
       "      <td>1505.760000</td>\n",
       "      <td>159.700000</td>\n",
       "      <td>celibataire</td>\n",
       "      <td>2017-11-21</td>\n",
       "      <td>6</td>\n",
       "    </tr>\n",
       "    <tr>\n",
       "      <th>Sameh</th>\n",
       "      <td>2700.330000</td>\n",
       "      <td>400.000000</td>\n",
       "      <td>marie</td>\n",
       "      <td>1999-02-19</td>\n",
       "      <td>24</td>\n",
       "    </tr>\n",
       "    <tr>\n",
       "      <th>Wajdi</th>\n",
       "      <td>1200.980000</td>\n",
       "      <td>257.165889</td>\n",
       "      <td>celibataire</td>\n",
       "      <td>2015-11-27</td>\n",
       "      <td>8</td>\n",
       "    </tr>\n",
       "    <tr>\n",
       "      <th>Moufida</th>\n",
       "      <td>3700.440000</td>\n",
       "      <td>500.000000</td>\n",
       "      <td>marie</td>\n",
       "      <td>1991-12-09</td>\n",
       "      <td>32</td>\n",
       "    </tr>\n",
       "  </tbody>\n",
       "</table>\n",
       "</div>"
      ],
      "text/plain": [
       "             salaire       prime   etat civil date recrutement  anciennete\n",
       "nom                                                                       \n",
       "Ali      1200.675000  100.560000  celibataire       2018-10-20           5\n",
       "Sonia    2800.786000  400.876000        marie       2005-11-30          18\n",
       "Rahma    2192.082091  130.987000  celibataire       2017-02-04           6\n",
       "Salma    2500.876000  340.600000        marie       2010-02-03          13\n",
       "Ahmed    3100.760000  257.165889        marie       2004-09-09          19\n",
       "Saleh    1300.876000  150.900000  celibataire       2017-01-01           6\n",
       "Ameni    1100.660000  130.870000  celibataire       2019-05-11           4\n",
       "Mehdi    3000.760000  257.165889        marie       2000-07-07          23\n",
       "Salem    1505.760000  159.700000  celibataire       2017-11-21           6\n",
       "Sameh    2700.330000  400.000000        marie       1999-02-19          24\n",
       "Wajdi    1200.980000  257.165889  celibataire       2015-11-27           8\n",
       "Moufida  3700.440000  500.000000        marie       1991-12-09          32"
      ]
     },
     "execution_count": 22,
     "metadata": {},
     "output_type": "execute_result"
    }
   ],
   "source": [
    "# The column 'date recrutement' is no longer useful\n",
    "# Logically, we drop it\n",
    "# Call drop() function and pass the following arguments :\n",
    "# - the column name to be dropped\n",
    "# - the axis either 0 (if we drop rows) or or 1 (if we drop columns) \n",
    "df_.drop('date recrutement', axis=0, errors='ignore', inplace=True)\n",
    "df_"
   ]
  },
  {
   "cell_type": "markdown",
   "metadata": {},
   "source": [
    "**1.3. Convertion of the discrete values of 'etat civil' column**"
   ]
  },
  {
   "cell_type": "code",
   "execution_count": null,
   "metadata": {},
   "outputs": [],
   "source": [
    "# Use the OneHotEncoder (OHE) to encode 'etat civil' column\n",
    "# Each value is encoded to a binary vector\n",
    "# 'celibataire' => [1,0]\n",
    "# 'marie'       => [0,1]\n",
    "\n",
    "# Import the OneHotEncoder class from sklearn.preprocessing module\n",
    "from sklearn.preprocessing import OneHotEncoder"
   ]
  },
  {
   "cell_type": "code",
   "execution_count": null,
   "metadata": {},
   "outputs": [],
   "source": [
    "# Create an instance ohe from OneHotEncoder\n",
    "# No hyperparameters are required\n",
    "ohe= OneHotEncoder()"
   ]
  },
  {
   "cell_type": "code",
   "execution_count": null,
   "metadata": {},
   "outputs": [
    {
     "data": {
      "text/html": [
       "<style>#sk-container-id-1 {color: black;}#sk-container-id-1 pre{padding: 0;}#sk-container-id-1 div.sk-toggleable {background-color: white;}#sk-container-id-1 label.sk-toggleable__label {cursor: pointer;display: block;width: 100%;margin-bottom: 0;padding: 0.3em;box-sizing: border-box;text-align: center;}#sk-container-id-1 label.sk-toggleable__label-arrow:before {content: \"▸\";float: left;margin-right: 0.25em;color: #696969;}#sk-container-id-1 label.sk-toggleable__label-arrow:hover:before {color: black;}#sk-container-id-1 div.sk-estimator:hover label.sk-toggleable__label-arrow:before {color: black;}#sk-container-id-1 div.sk-toggleable__content {max-height: 0;max-width: 0;overflow: hidden;text-align: left;background-color: #f0f8ff;}#sk-container-id-1 div.sk-toggleable__content pre {margin: 0.2em;color: black;border-radius: 0.25em;background-color: #f0f8ff;}#sk-container-id-1 input.sk-toggleable__control:checked~div.sk-toggleable__content {max-height: 200px;max-width: 100%;overflow: auto;}#sk-container-id-1 input.sk-toggleable__control:checked~label.sk-toggleable__label-arrow:before {content: \"▾\";}#sk-container-id-1 div.sk-estimator input.sk-toggleable__control:checked~label.sk-toggleable__label {background-color: #d4ebff;}#sk-container-id-1 div.sk-label input.sk-toggleable__control:checked~label.sk-toggleable__label {background-color: #d4ebff;}#sk-container-id-1 input.sk-hidden--visually {border: 0;clip: rect(1px 1px 1px 1px);clip: rect(1px, 1px, 1px, 1px);height: 1px;margin: -1px;overflow: hidden;padding: 0;position: absolute;width: 1px;}#sk-container-id-1 div.sk-estimator {font-family: monospace;background-color: #f0f8ff;border: 1px dotted black;border-radius: 0.25em;box-sizing: border-box;margin-bottom: 0.5em;}#sk-container-id-1 div.sk-estimator:hover {background-color: #d4ebff;}#sk-container-id-1 div.sk-parallel-item::after {content: \"\";width: 100%;border-bottom: 1px solid gray;flex-grow: 1;}#sk-container-id-1 div.sk-label:hover label.sk-toggleable__label {background-color: #d4ebff;}#sk-container-id-1 div.sk-serial::before {content: \"\";position: absolute;border-left: 1px solid gray;box-sizing: border-box;top: 0;bottom: 0;left: 50%;z-index: 0;}#sk-container-id-1 div.sk-serial {display: flex;flex-direction: column;align-items: center;background-color: white;padding-right: 0.2em;padding-left: 0.2em;position: relative;}#sk-container-id-1 div.sk-item {position: relative;z-index: 1;}#sk-container-id-1 div.sk-parallel {display: flex;align-items: stretch;justify-content: center;background-color: white;position: relative;}#sk-container-id-1 div.sk-item::before, #sk-container-id-1 div.sk-parallel-item::before {content: \"\";position: absolute;border-left: 1px solid gray;box-sizing: border-box;top: 0;bottom: 0;left: 50%;z-index: -1;}#sk-container-id-1 div.sk-parallel-item {display: flex;flex-direction: column;z-index: 1;position: relative;background-color: white;}#sk-container-id-1 div.sk-parallel-item:first-child::after {align-self: flex-end;width: 50%;}#sk-container-id-1 div.sk-parallel-item:last-child::after {align-self: flex-start;width: 50%;}#sk-container-id-1 div.sk-parallel-item:only-child::after {width: 0;}#sk-container-id-1 div.sk-dashed-wrapped {border: 1px dashed gray;margin: 0 0.4em 0.5em 0.4em;box-sizing: border-box;padding-bottom: 0.4em;background-color: white;}#sk-container-id-1 div.sk-label label {font-family: monospace;font-weight: bold;display: inline-block;line-height: 1.2em;}#sk-container-id-1 div.sk-label-container {text-align: center;}#sk-container-id-1 div.sk-container {/* jupyter's `normalize.less` sets `[hidden] { display: none; }` but bootstrap.min.css set `[hidden] { display: none !important; }` so we also need the `!important` here to be able to override the default hidden behavior on the sphinx rendered scikit-learn.org. See: https://github.com/scikit-learn/scikit-learn/issues/21755 */display: inline-block !important;position: relative;}#sk-container-id-1 div.sk-text-repr-fallback {display: none;}</style><div id=\"sk-container-id-1\" class=\"sk-top-container\"><div class=\"sk-text-repr-fallback\"><pre>OneHotEncoder()</pre><b>In a Jupyter environment, please rerun this cell to show the HTML representation or trust the notebook. <br />On GitHub, the HTML representation is unable to render, please try loading this page with nbviewer.org.</b></div><div class=\"sk-container\" hidden><div class=\"sk-item\"><div class=\"sk-estimator sk-toggleable\"><input class=\"sk-toggleable__control sk-hidden--visually\" id=\"sk-estimator-id-1\" type=\"checkbox\" checked><label for=\"sk-estimator-id-1\" class=\"sk-toggleable__label sk-toggleable__label-arrow\">OneHotEncoder</label><div class=\"sk-toggleable__content\"><pre>OneHotEncoder()</pre></div></div></div></div></div>"
      ],
      "text/plain": [
       "OneHotEncoder()"
      ]
     },
     "execution_count": 25,
     "metadata": {},
     "output_type": "execute_result"
    }
   ],
   "source": [
    "# Call fit() function and pass 'etat civil' column as an argument\n",
    "# The 'etat civil' column should be specified as a dataframe\n",
    "ohe.fit(pd.DataFrame(df_['etat civil']))"
   ]
  },
  {
   "cell_type": "code",
   "execution_count": null,
   "metadata": {},
   "outputs": [
    {
     "data": {
      "text/plain": [
       "array(['celibataire', 'marie'], dtype=object)"
      ]
     },
     "execution_count": 26,
     "metadata": {},
     "output_type": "execute_result"
    }
   ],
   "source": [
    "# Show the OHE model\n",
    "# The model parameters are the unique values to be encoded, called categories\n",
    "categories = ohe.categories_[0]\n",
    "categories"
   ]
  },
  {
   "cell_type": "code",
   "execution_count": null,
   "metadata": {},
   "outputs": [
    {
     "data": {
      "text/plain": [
       "<12x2 sparse matrix of type '<class 'numpy.float64'>'\n",
       "\twith 12 stored elements in Compressed Sparse Row format>"
      ]
     },
     "execution_count": 27,
     "metadata": {},
     "output_type": "execute_result"
    }
   ],
   "source": [
    "# Transform the discete values of 'etat civil' column\n",
    "# Call transform() function and pass 'etat civil' column (as a dataframe) as an argument\n",
    "# Normally, the encoded 'etat civil' would be a binary matrix\n",
    "# However, OHE returns it as a sparse matrix (to optimize the memory storage)\n",
    "encoded_etat_civil=ohe.transform(pd.DataFrame(df_['etat civil']))\n",
    "encoded_etat_civil"
   ]
  },
  {
   "cell_type": "code",
   "execution_count": null,
   "metadata": {},
   "outputs": [
    {
     "data": {
      "text/plain": [
       "array([[1., 0.],\n",
       "       [0., 1.],\n",
       "       [1., 0.],\n",
       "       [0., 1.],\n",
       "       [0., 1.],\n",
       "       [1., 0.],\n",
       "       [1., 0.],\n",
       "       [0., 1.],\n",
       "       [1., 0.],\n",
       "       [0., 1.],\n",
       "       [1., 0.],\n",
       "       [0., 1.]])"
      ]
     },
     "execution_count": 28,
     "metadata": {},
     "output_type": "execute_result"
    }
   ],
   "source": [
    "# Convert the sparse matrix to a numpy matrix\n",
    "# Use toarray()function\n",
    "encoded_etat_civil=encoded_etat_civil.toarray()\n",
    "encoded_etat_civil"
   ]
  },
  {
   "cell_type": "code",
   "execution_count": null,
   "metadata": {},
   "outputs": [
    {
     "ename": "NameError",
     "evalue": "name 'encoded_etat_civil' is not defined",
     "output_type": "error",
     "traceback": [
      "\u001b[1;31m---------------------------------------------------------------------------\u001b[0m",
      "\u001b[1;31mNameError\u001b[0m                                 Traceback (most recent call last)",
      "\u001b[1;32mc:\\Users\\abdou\\OneDrive\\Bureau\\AI\\AI_course\\LAB 3-\\Clustering_lab3_part1.ipynb Cell 35\u001b[0m line \u001b[0;36m7\n\u001b[0;32m      <a href='vscode-notebook-cell:/c%3A/Users/abdou/OneDrive/Bureau/AI/AI_course/LAB%203-/Clustering_lab3_part1.ipynb#X46sZmlsZQ%3D%3D?line=0'>1</a>\u001b[0m \u001b[39m# Convert the numpy matrix of encoded 'etat civil' to a dataframe\u001b[39;00m\n\u001b[0;32m      <a href='vscode-notebook-cell:/c%3A/Users/abdou/OneDrive/Bureau/AI/AI_course/LAB%203-/Clustering_lab3_part1.ipynb#X46sZmlsZQ%3D%3D?line=1'>2</a>\u001b[0m \u001b[39m# Use pandas DataFrame class\u001b[39;00m\n\u001b[0;32m      <a href='vscode-notebook-cell:/c%3A/Users/abdou/OneDrive/Bureau/AI/AI_course/LAB%203-/Clustering_lab3_part1.ipynb#X46sZmlsZQ%3D%3D?line=2'>3</a>\u001b[0m \u001b[39m# Pass the following arguments :\u001b[39;00m\n\u001b[0;32m      <a href='vscode-notebook-cell:/c%3A/Users/abdou/OneDrive/Bureau/AI/AI_course/LAB%203-/Clustering_lab3_part1.ipynb#X46sZmlsZQ%3D%3D?line=3'>4</a>\u001b[0m \u001b[39m# - numpy array of encoded etat civil (already computed)\u001b[39;00m\n\u001b[0;32m      <a href='vscode-notebook-cell:/c%3A/Users/abdou/OneDrive/Bureau/AI/AI_course/LAB%203-/Clustering_lab3_part1.ipynb#X46sZmlsZQ%3D%3D?line=4'>5</a>\u001b[0m \u001b[39m# - index : the same index as df_\u001b[39;00m\n\u001b[0;32m      <a href='vscode-notebook-cell:/c%3A/Users/abdou/OneDrive/Bureau/AI/AI_course/LAB%203-/Clustering_lab3_part1.ipynb#X46sZmlsZQ%3D%3D?line=5'>6</a>\u001b[0m \u001b[39m# - columns : concatenate 'etat_civil_' and categories\u001b[39;00m\n\u001b[1;32m----> <a href='vscode-notebook-cell:/c%3A/Users/abdou/OneDrive/Bureau/AI/AI_course/LAB%203-/Clustering_lab3_part1.ipynb#X46sZmlsZQ%3D%3D?line=6'>7</a>\u001b[0m df_encoded_etat_civil\u001b[39m=\u001b[39mpd\u001b[39m.\u001b[39mDataFrame(encoded_etat_civil, \n\u001b[0;32m      <a href='vscode-notebook-cell:/c%3A/Users/abdou/OneDrive/Bureau/AI/AI_course/LAB%203-/Clustering_lab3_part1.ipynb#X46sZmlsZQ%3D%3D?line=7'>8</a>\u001b[0m                                     index\u001b[39m=\u001b[39mdf_employes\u001b[39m.\u001b[39mindex,\n\u001b[0;32m      <a href='vscode-notebook-cell:/c%3A/Users/abdou/OneDrive/Bureau/AI/AI_course/LAB%203-/Clustering_lab3_part1.ipynb#X46sZmlsZQ%3D%3D?line=8'>9</a>\u001b[0m                                     columns\u001b[39m=\u001b[39m\u001b[39m'\u001b[39m\u001b[39metat_civil_\u001b[39m\u001b[39m'\u001b[39m\u001b[39m+\u001b[39mcategories)\n\u001b[0;32m     <a href='vscode-notebook-cell:/c%3A/Users/abdou/OneDrive/Bureau/AI/AI_course/LAB%203-/Clustering_lab3_part1.ipynb#X46sZmlsZQ%3D%3D?line=9'>10</a>\u001b[0m df_encoded_etat_civil \n",
      "\u001b[1;31mNameError\u001b[0m: name 'encoded_etat_civil' is not defined"
     ]
    }
   ],
   "source": [
    "# Convert the numpy matrix of encoded 'etat civil' to a dataframe\n",
    "# Use pandas DataFrame class\n",
    "# Pass the following arguments :\n",
    "# - numpy array of encoded etat civil (already computed)\n",
    "# - index : the same index as df_\n",
    "# - columns : concatenate 'etat_civil_' and categories\n",
    "df_encoded_etat_civil=pd.DataFrame(encoded_etat_civil, \n",
    "                                    index=df_employes.index,\n",
    "                                    columns='etat_civil_'+categories)\n",
    "df_encoded_etat_civil \n"
   ]
  },
  {
   "cell_type": "code",
   "execution_count": null,
   "metadata": {},
   "outputs": [
    {
     "data": {
      "text/html": [
       "<div>\n",
       "<style scoped>\n",
       "    .dataframe tbody tr th:only-of-type {\n",
       "        vertical-align: middle;\n",
       "    }\n",
       "\n",
       "    .dataframe tbody tr th {\n",
       "        vertical-align: top;\n",
       "    }\n",
       "\n",
       "    .dataframe thead th {\n",
       "        text-align: right;\n",
       "    }\n",
       "</style>\n",
       "<table border=\"1\" class=\"dataframe\">\n",
       "  <thead>\n",
       "    <tr style=\"text-align: right;\">\n",
       "      <th></th>\n",
       "      <th>salaire</th>\n",
       "      <th>prime</th>\n",
       "      <th>etat civil</th>\n",
       "      <th>anciennete</th>\n",
       "      <th>etat_civil_celibataire</th>\n",
       "      <th>etat_civil_marie</th>\n",
       "    </tr>\n",
       "    <tr>\n",
       "      <th>nom</th>\n",
       "      <th></th>\n",
       "      <th></th>\n",
       "      <th></th>\n",
       "      <th></th>\n",
       "      <th></th>\n",
       "      <th></th>\n",
       "    </tr>\n",
       "  </thead>\n",
       "  <tbody>\n",
       "    <tr>\n",
       "      <th>Ali</th>\n",
       "      <td>1200.675000</td>\n",
       "      <td>100.560000</td>\n",
       "      <td>celibataire</td>\n",
       "      <td>5</td>\n",
       "      <td>1.0</td>\n",
       "      <td>0.0</td>\n",
       "    </tr>\n",
       "    <tr>\n",
       "      <th>Sonia</th>\n",
       "      <td>2800.786000</td>\n",
       "      <td>400.876000</td>\n",
       "      <td>marie</td>\n",
       "      <td>18</td>\n",
       "      <td>0.0</td>\n",
       "      <td>1.0</td>\n",
       "    </tr>\n",
       "    <tr>\n",
       "      <th>Rahma</th>\n",
       "      <td>2192.082091</td>\n",
       "      <td>130.987000</td>\n",
       "      <td>celibataire</td>\n",
       "      <td>6</td>\n",
       "      <td>1.0</td>\n",
       "      <td>0.0</td>\n",
       "    </tr>\n",
       "    <tr>\n",
       "      <th>Salma</th>\n",
       "      <td>2500.876000</td>\n",
       "      <td>340.600000</td>\n",
       "      <td>marie</td>\n",
       "      <td>13</td>\n",
       "      <td>0.0</td>\n",
       "      <td>1.0</td>\n",
       "    </tr>\n",
       "    <tr>\n",
       "      <th>Ahmed</th>\n",
       "      <td>3100.760000</td>\n",
       "      <td>257.165889</td>\n",
       "      <td>marie</td>\n",
       "      <td>19</td>\n",
       "      <td>0.0</td>\n",
       "      <td>1.0</td>\n",
       "    </tr>\n",
       "    <tr>\n",
       "      <th>Saleh</th>\n",
       "      <td>1300.876000</td>\n",
       "      <td>150.900000</td>\n",
       "      <td>celibataire</td>\n",
       "      <td>6</td>\n",
       "      <td>1.0</td>\n",
       "      <td>0.0</td>\n",
       "    </tr>\n",
       "    <tr>\n",
       "      <th>Ameni</th>\n",
       "      <td>1100.660000</td>\n",
       "      <td>130.870000</td>\n",
       "      <td>celibataire</td>\n",
       "      <td>4</td>\n",
       "      <td>1.0</td>\n",
       "      <td>0.0</td>\n",
       "    </tr>\n",
       "    <tr>\n",
       "      <th>Mehdi</th>\n",
       "      <td>3000.760000</td>\n",
       "      <td>257.165889</td>\n",
       "      <td>marie</td>\n",
       "      <td>23</td>\n",
       "      <td>0.0</td>\n",
       "      <td>1.0</td>\n",
       "    </tr>\n",
       "    <tr>\n",
       "      <th>Salem</th>\n",
       "      <td>1505.760000</td>\n",
       "      <td>159.700000</td>\n",
       "      <td>celibataire</td>\n",
       "      <td>6</td>\n",
       "      <td>1.0</td>\n",
       "      <td>0.0</td>\n",
       "    </tr>\n",
       "    <tr>\n",
       "      <th>Sameh</th>\n",
       "      <td>2700.330000</td>\n",
       "      <td>400.000000</td>\n",
       "      <td>marie</td>\n",
       "      <td>24</td>\n",
       "      <td>0.0</td>\n",
       "      <td>1.0</td>\n",
       "    </tr>\n",
       "    <tr>\n",
       "      <th>Wajdi</th>\n",
       "      <td>1200.980000</td>\n",
       "      <td>257.165889</td>\n",
       "      <td>celibataire</td>\n",
       "      <td>8</td>\n",
       "      <td>1.0</td>\n",
       "      <td>0.0</td>\n",
       "    </tr>\n",
       "    <tr>\n",
       "      <th>Moufida</th>\n",
       "      <td>3700.440000</td>\n",
       "      <td>500.000000</td>\n",
       "      <td>marie</td>\n",
       "      <td>32</td>\n",
       "      <td>0.0</td>\n",
       "      <td>1.0</td>\n",
       "    </tr>\n",
       "  </tbody>\n",
       "</table>\n",
       "</div>"
      ],
      "text/plain": [
       "             salaire       prime   etat civil  anciennete  \\\n",
       "nom                                                         \n",
       "Ali      1200.675000  100.560000  celibataire           5   \n",
       "Sonia    2800.786000  400.876000        marie          18   \n",
       "Rahma    2192.082091  130.987000  celibataire           6   \n",
       "Salma    2500.876000  340.600000        marie          13   \n",
       "Ahmed    3100.760000  257.165889        marie          19   \n",
       "Saleh    1300.876000  150.900000  celibataire           6   \n",
       "Ameni    1100.660000  130.870000  celibataire           4   \n",
       "Mehdi    3000.760000  257.165889        marie          23   \n",
       "Salem    1505.760000  159.700000  celibataire           6   \n",
       "Sameh    2700.330000  400.000000        marie          24   \n",
       "Wajdi    1200.980000  257.165889  celibataire           8   \n",
       "Moufida  3700.440000  500.000000        marie          32   \n",
       "\n",
       "         etat_civil_celibataire  etat_civil_marie  \n",
       "nom                                                \n",
       "Ali                         1.0               0.0  \n",
       "Sonia                       0.0               1.0  \n",
       "Rahma                       1.0               0.0  \n",
       "Salma                       0.0               1.0  \n",
       "Ahmed                       0.0               1.0  \n",
       "Saleh                       1.0               0.0  \n",
       "Ameni                       1.0               0.0  \n",
       "Mehdi                       0.0               1.0  \n",
       "Salem                       1.0               0.0  \n",
       "Sameh                       0.0               1.0  \n",
       "Wajdi                       1.0               0.0  \n",
       "Moufida                     0.0               1.0  "
      ]
     },
     "execution_count": 54,
     "metadata": {},
     "output_type": "execute_result"
    }
   ],
   "source": [
    "# Concat the encoded 'etat civil' to a dataframe to df_\n",
    "# Use pandas concat function\n",
    "# Pass as arguments :\n",
    "# - a list that contains the old dataframe df_ and the dataframe of encoded etat civil\n",
    "# - axis : specify the value \n",
    "#    0 (if the concat is performed in vertical axis) \n",
    "#    1 (if the concat is performed in horizontal axis) \n",
    "df_ = pd.concat([df_, df_encoded_etat_civil] ,  axis=1)\n",
    "df_"
   ]
  },
  {
   "cell_type": "code",
   "execution_count": null,
   "metadata": {},
   "outputs": [
    {
     "data": {
      "text/html": [
       "<div>\n",
       "<style scoped>\n",
       "    .dataframe tbody tr th:only-of-type {\n",
       "        vertical-align: middle;\n",
       "    }\n",
       "\n",
       "    .dataframe tbody tr th {\n",
       "        vertical-align: top;\n",
       "    }\n",
       "\n",
       "    .dataframe thead th {\n",
       "        text-align: right;\n",
       "    }\n",
       "</style>\n",
       "<table border=\"1\" class=\"dataframe\">\n",
       "  <thead>\n",
       "    <tr style=\"text-align: right;\">\n",
       "      <th></th>\n",
       "      <th>salaire</th>\n",
       "      <th>prime</th>\n",
       "      <th>anciennete</th>\n",
       "      <th>etat_civil_celibataire</th>\n",
       "      <th>etat_civil_marie</th>\n",
       "    </tr>\n",
       "    <tr>\n",
       "      <th>nom</th>\n",
       "      <th></th>\n",
       "      <th></th>\n",
       "      <th></th>\n",
       "      <th></th>\n",
       "      <th></th>\n",
       "    </tr>\n",
       "  </thead>\n",
       "  <tbody>\n",
       "    <tr>\n",
       "      <th>Ali</th>\n",
       "      <td>1200.675000</td>\n",
       "      <td>100.560000</td>\n",
       "      <td>5</td>\n",
       "      <td>1.0</td>\n",
       "      <td>0.0</td>\n",
       "    </tr>\n",
       "    <tr>\n",
       "      <th>Sonia</th>\n",
       "      <td>2800.786000</td>\n",
       "      <td>400.876000</td>\n",
       "      <td>18</td>\n",
       "      <td>0.0</td>\n",
       "      <td>1.0</td>\n",
       "    </tr>\n",
       "    <tr>\n",
       "      <th>Rahma</th>\n",
       "      <td>2192.082091</td>\n",
       "      <td>130.987000</td>\n",
       "      <td>6</td>\n",
       "      <td>1.0</td>\n",
       "      <td>0.0</td>\n",
       "    </tr>\n",
       "    <tr>\n",
       "      <th>Salma</th>\n",
       "      <td>2500.876000</td>\n",
       "      <td>340.600000</td>\n",
       "      <td>13</td>\n",
       "      <td>0.0</td>\n",
       "      <td>1.0</td>\n",
       "    </tr>\n",
       "    <tr>\n",
       "      <th>Ahmed</th>\n",
       "      <td>3100.760000</td>\n",
       "      <td>257.165889</td>\n",
       "      <td>19</td>\n",
       "      <td>0.0</td>\n",
       "      <td>1.0</td>\n",
       "    </tr>\n",
       "    <tr>\n",
       "      <th>Saleh</th>\n",
       "      <td>1300.876000</td>\n",
       "      <td>150.900000</td>\n",
       "      <td>6</td>\n",
       "      <td>1.0</td>\n",
       "      <td>0.0</td>\n",
       "    </tr>\n",
       "    <tr>\n",
       "      <th>Ameni</th>\n",
       "      <td>1100.660000</td>\n",
       "      <td>130.870000</td>\n",
       "      <td>4</td>\n",
       "      <td>1.0</td>\n",
       "      <td>0.0</td>\n",
       "    </tr>\n",
       "    <tr>\n",
       "      <th>Mehdi</th>\n",
       "      <td>3000.760000</td>\n",
       "      <td>257.165889</td>\n",
       "      <td>23</td>\n",
       "      <td>0.0</td>\n",
       "      <td>1.0</td>\n",
       "    </tr>\n",
       "    <tr>\n",
       "      <th>Salem</th>\n",
       "      <td>1505.760000</td>\n",
       "      <td>159.700000</td>\n",
       "      <td>6</td>\n",
       "      <td>1.0</td>\n",
       "      <td>0.0</td>\n",
       "    </tr>\n",
       "    <tr>\n",
       "      <th>Sameh</th>\n",
       "      <td>2700.330000</td>\n",
       "      <td>400.000000</td>\n",
       "      <td>24</td>\n",
       "      <td>0.0</td>\n",
       "      <td>1.0</td>\n",
       "    </tr>\n",
       "    <tr>\n",
       "      <th>Wajdi</th>\n",
       "      <td>1200.980000</td>\n",
       "      <td>257.165889</td>\n",
       "      <td>8</td>\n",
       "      <td>1.0</td>\n",
       "      <td>0.0</td>\n",
       "    </tr>\n",
       "    <tr>\n",
       "      <th>Moufida</th>\n",
       "      <td>3700.440000</td>\n",
       "      <td>500.000000</td>\n",
       "      <td>32</td>\n",
       "      <td>0.0</td>\n",
       "      <td>1.0</td>\n",
       "    </tr>\n",
       "  </tbody>\n",
       "</table>\n",
       "</div>"
      ],
      "text/plain": [
       "             salaire       prime  anciennete  etat_civil_celibataire  \\\n",
       "nom                                                                    \n",
       "Ali      1200.675000  100.560000           5                     1.0   \n",
       "Sonia    2800.786000  400.876000          18                     0.0   \n",
       "Rahma    2192.082091  130.987000           6                     1.0   \n",
       "Salma    2500.876000  340.600000          13                     0.0   \n",
       "Ahmed    3100.760000  257.165889          19                     0.0   \n",
       "Saleh    1300.876000  150.900000           6                     1.0   \n",
       "Ameni    1100.660000  130.870000           4                     1.0   \n",
       "Mehdi    3000.760000  257.165889          23                     0.0   \n",
       "Salem    1505.760000  159.700000           6                     1.0   \n",
       "Sameh    2700.330000  400.000000          24                     0.0   \n",
       "Wajdi    1200.980000  257.165889           8                     1.0   \n",
       "Moufida  3700.440000  500.000000          32                     0.0   \n",
       "\n",
       "         etat_civil_marie  \n",
       "nom                        \n",
       "Ali                   0.0  \n",
       "Sonia                 1.0  \n",
       "Rahma                 0.0  \n",
       "Salma                 1.0  \n",
       "Ahmed                 1.0  \n",
       "Saleh                 0.0  \n",
       "Ameni                 0.0  \n",
       "Mehdi                 1.0  \n",
       "Salem                 0.0  \n",
       "Sameh                 1.0  \n",
       "Wajdi                 0.0  \n",
       "Moufida               1.0  "
      ]
     },
     "execution_count": 55,
     "metadata": {},
     "output_type": "execute_result"
    }
   ],
   "source": [
    "# The 'etat civil' column is no longer useful\n",
    "# We drop it\n",
    "df_.drop('etat civil', axis=1, errors='ignore', inplace=True)\n",
    "df_"
   ]
  },
  {
   "cell_type": "code",
   "execution_count": null,
   "metadata": {},
   "outputs": [],
   "source": [
    "# Save the processed numerical dataset into a CSV file\n",
    "# Call to_csv() function and pass 'employes_num.csv' as file name\n",
    "df_.to_csv('employes_num.csv')"
   ]
  },
  {
   "cell_type": "code",
   "execution_count": null,
   "metadata": {},
   "outputs": [],
   "source": []
  }
 ],
 "metadata": {
  "kernelspec": {
   "display_name": "venv_ai",
   "language": "python",
   "name": "python3"
  },
  "language_info": {
   "codemirror_mode": {
    "name": "ipython",
    "version": 3
   },
   "file_extension": ".py",
   "mimetype": "text/x-python",
   "name": "python",
   "nbconvert_exporter": "python",
   "pygments_lexer": "ipython3",
   "version": "3.11.6"
  },
  "orig_nbformat": 4
 },
 "nbformat": 4,
 "nbformat_minor": 2
}
