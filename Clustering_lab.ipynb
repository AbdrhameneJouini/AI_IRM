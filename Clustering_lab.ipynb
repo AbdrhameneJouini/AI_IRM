{
  "cells": [
    {
      "cell_type": "markdown",
      "metadata": {},
      "source": [
        "<h3>Todo :</h3>\n",
        "\n",
        "The goal of this Lab is to implement the clustering techniques called Kmeans as Python class.\n",
        "\n",
        "To do it, follow the below steps :"
      ]
    },
    {
      "cell_type": "markdown",
      "metadata": {
        "id": "RZE688fxoVxA"
      },
      "source": [
        "1. Define the training dataset"
      ]
    },
    {
      "cell_type": "code",
      "execution_count": null,
      "metadata": {
        "id": "ZNqbYnVqqCv-"
      },
      "outputs": [],
      "source": [
        "import numpy as np"
      ]
    },
    {
      "cell_type": "code",
      "execution_count": null,
      "metadata": {
        "id": "y9LorviaoTrM"
      },
      "outputs": [],
      "source": [
        "# Declare a numpy matrix called X\n",
        "# It represents a population of employees\n",
        "# The matrix rows are employees\n",
        "# The matrix columns are their properties : age and salary\n",
        "# The data of employees : (30,1300.5) , (48, 2500.7) , (25, 1100.5) , (45, 1900.75)\n",
        "X=#?"
      ]
    },
    {
      "cell_type": "markdown",
      "metadata": {
        "id": "2BjjG_LfqGY2"
      },
      "source": [
        "2. Define the hyperparameters"
      ]
    },
    {
      "cell_type": "code",
      "execution_count": null,
      "metadata": {
        "id": "47kFHzcXrHww"
      },
      "outputs": [],
      "source": [
        "# Kmeans hyperparameters are defined as attributes\n",
        "# Kmean hyperparameters is the number of clusters and it denoted K\n",
        "# Complete the code\n",
        "class Kmeans :\n",
        "  def __init__(self,#?):\n",
        "    self.k=#?"
      ]
    },
    {
      "cell_type": "markdown",
      "metadata": {
        "id": "0IyaPzv1rUqf"
      },
      "source": [
        "3. Define the parameters"
      ]
    },
    {
      "cell_type": "code",
      "execution_count": null,
      "metadata": {
        "id": "FXtqXpA9rXF7"
      },
      "outputs": [],
      "source": [
        "# Kmeans parameters are defined as attributes\n",
        "# Kmeans parameter is the cluster centers and it is denoted centers\n",
        "# It is a matrix of shape Kxdim , where dim is the data dimension\n",
        "# Complete the code\n",
        "class Kmeans :\n",
        "  def __init__(self):\n",
        "    self.k=#?\n",
        "    self.centers=#?"
      ]
    },
    {
      "cell_type": "markdown",
      "metadata": {
        "id": "1hz772-Cr9DW"
      },
      "source": [
        "4. Define the learning process"
      ]
    },
    {
      "cell_type": "code",
      "execution_count": null,
      "metadata": {
        "id": "T8OCO6afsAga"
      },
      "outputs": [],
      "source": [
        "# Implement the learning process of Kmeans\n",
        "# Define fit() function that takes as input training data matrix (X)\n",
        "# It estimates the cluster centers (M)\n",
        "# It returns the object (self)\n",
        "class Kmeans :\n",
        "  def __init__(self):\n",
        "    self.k=#?\n",
        "    self.centers=#?\n",
        "  def fit(self,#?):\n",
        "    #?\n",
        "    return self"
      ]
    },
    {
      "cell_type": "markdown",
      "metadata": {
        "id": "x2SouTeNsBCO"
      },
      "source": [
        "5. Define the prediction process"
      ]
    },
    {
      "cell_type": "code",
      "execution_count": null,
      "metadata": {
        "id": "YrTE2xEJsC2P"
      },
      "outputs": [],
      "source": [
        "# Implement the prediction process of Kmeans\n",
        "# Define predict() function that takes as input a data vecteur (x), ie one employee informations\n",
        "# It predicts the label of cluster (an integer) to which x belongs, ie it can be {0,1,..,K-1}\n",
        "# It returns the predicted label\n",
        "class Kmeans :\n",
        "  def __init__(self):\n",
        "    self.k=#?\n",
        "    self.centers=#?\n",
        "  def fit(self,#?):\n",
        "    #?\n",
        "    return self\n",
        "  def predict(self,#?):\n",
        "    #?\n",
        "    return label"
      ]
    },
    {
      "cell_type": "markdown",
      "metadata": {
        "id": "ibV7G3RpsDTf"
      },
      "source": [
        "6. Apply learning"
      ]
    },
    {
      "cell_type": "code",
      "execution_count": null,
      "metadata": {
        "id": "vdTbjiSosGcz"
      },
      "outputs": [],
      "source": [
        "# We create an instance of Kmeans.\n",
        "km=#?"
      ]
    },
    {
      "cell_type": "code",
      "execution_count": null,
      "metadata": {
        "id": "jaGhx2JvIQ5H"
      },
      "outputs": [],
      "source": [
        "# Call fit() function to learn the Kmeans model\n",
        "km.#?"
      ]
    },
    {
      "cell_type": "markdown",
      "metadata": {
        "id": "M1gtWAIjsG8W"
      },
      "source": [
        "7. Apply prediction"
      ]
    },
    {
      "cell_type": "code",
      "execution_count": null,
      "metadata": {
        "id": "tNtKLfJ1sIp2"
      },
      "outputs": [],
      "source": [
        "# Create a new employee x=(29,1400)\n",
        "em=#?"
      ]
    },
    {
      "cell_type": "code",
      "execution_count": null,
      "metadata": {
        "id": "6_uUml2BIe9w"
      },
      "outputs": [],
      "source": [
        "# Predict the label of cluster to which the new employee belongs\n",
        "label=km.#?"
      ]
    }
  ],
  "metadata": {
    "colab": {
      "provenance": []
    },
    "kernelspec": {
      "display_name": "Python 3",
      "name": "python3"
    },
    "language_info": {
      "name": "python"
    }
  },
  "nbformat": 4,
  "nbformat_minor": 0
}
