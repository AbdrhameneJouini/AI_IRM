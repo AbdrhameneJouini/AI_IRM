{
  "cells": [
    {
      "cell_type": "markdown",
      "metadata": {},
      "source": [
        "The goal of this Lab is to implement the clustering technique Kmeans as a Python class.\n",
        "\n",
        "To do it, follow the steps below.\n",
        "\n",
        "Meanwhile, we will test Kmeans implementation using a training population of employees.\n",
        "\n",
        "<b>Todo :</b> Replace <font color=red>#?</font> by an appropriate Python code"
      ]
    },
    {
      "cell_type": "markdown",
      "metadata": {
        "id": "RZE688fxoVxA"
      },
      "source": [
        "Step 1. Define a training dataset of employees"
      ]
    },
    {
      "cell_type": "code",
      "execution_count": 97,
      "metadata": {
        "id": "ZNqbYnVqqCv-"
      },
      "outputs": [],
      "source": [
        "import numpy as np"
      ]
    },
    {
      "cell_type": "code",
      "execution_count": 98,
      "metadata": {
        "id": "y9LorviaoTrM"
      },
      "outputs": [
        {
          "name": "stdout",
          "output_type": "stream",
          "text": [
            "[  30.  1300.5]\n"
          ]
        }
      ],
      "source": [
        "# Declare a numpy matrix denoted X\n",
        "# It represents a population of employees\n",
        "# The matrix rows are employees\n",
        "# The matrix columns are their properties : age and salary\n",
        "# The data of employees : (30,1300.5) , (48, 2500.7) , (25, 1100.5) , (45, 1900.75)\n",
        "X= np.array( [  [   30 , 1300.5 ] , [48, 2500.7  ]   ,  [ 25, 1100.5  ]    , [ 45, 1900.75  ]         ] )\n",
        "print(X[0])"
      ]
    },
    {
      "cell_type": "markdown",
      "metadata": {
        "id": "2BjjG_LfqGY2"
      },
      "source": [
        "Step 2. Define Kmeans hyperparameters"
      ]
    },
    {
      "cell_type": "code",
      "execution_count": 99,
      "metadata": {
        "id": "47kFHzcXrHww"
      },
      "outputs": [],
      "source": [
        "# Kmeans hyperparameters are defined as attributes\n",
        "# The most important hyperparameter of Kmeans is the number of clusters.\n",
        "# It is manually assigned.\n",
        "# It denoted k \n",
        "# It has 2 as default value\n",
        "# Complete the code\n",
        "class Kmeans :\n",
        "  def __init__(self, k=2):\n",
        "    self.k= k "
      ]
    },
    {
      "cell_type": "code",
      "execution_count": 100,
      "metadata": {},
      "outputs": [
        {
          "data": {
            "text/plain": [
              "2"
            ]
          },
          "execution_count": 100,
          "metadata": {},
          "output_type": "execute_result"
        }
      ],
      "source": [
        "# Run test\n",
        "km=Kmeans(k=2)\n",
        "km.k"
      ]
    },
    {
      "cell_type": "markdown",
      "metadata": {
        "id": "0IyaPzv1rUqf"
      },
      "source": [
        "Step 3. Define Kmeans model parameters"
      ]
    },
    {
      "cell_type": "code",
      "execution_count": 101,
      "metadata": {
        "id": "FXtqXpA9rXF7"
      },
      "outputs": [],
      "source": [
        "# Kmeans parameters are defined as attributes\n",
        "# Kmeans has one parameter : It is the cluster centers\n",
        "# It is denoted centers\n",
        "# It is assigned None value before learning process\n",
        "# Complete the code :\n",
        "class Kmeans :\n",
        "  def __init__(self, k=2):\n",
        "    self.k= k\n",
        "    self.centers= None"
      ]
    },
    {
      "cell_type": "code",
      "execution_count": 102,
      "metadata": {},
      "outputs": [],
      "source": [
        "# Run test\n",
        "km=Kmeans(k=2)\n",
        "km.centers"
      ]
    },
    {
      "cell_type": "markdown",
      "metadata": {
        "id": "1hz772-Cr9DW"
      },
      "source": [
        "Step 4. Define the learning process"
      ]
    },
    {
      "cell_type": "code",
      "execution_count": 103,
      "metadata": {
        "id": "T8OCO6afsAga"
      },
      "outputs": [],
      "source": [
        "# The learning process of Kmeans is implemented in fit() function\n",
        "# Define fit() function that :\n",
        "# - takes as input training data matrix X\n",
        "# - iteratively estimates the cluster centers\n",
        "# - returns the class object (self)\n",
        "class Kmeans :\n",
        "  def __init__(self, k=2):\n",
        "    self.k= k\n",
        "    self.centers= None\n",
        "  \n",
        "  def fit(self, x):\n",
        "    # predict the center of each cluster ( k cluster ?)\n",
        "    age_mean = 0\n",
        "    salary_mean = 0\n",
        "  \n",
        "    for i in range(1, len(x) ):\n",
        "      age_mean += x[i][0]\n",
        "      salary_mean += x[i][1]\n",
        "\n",
        "    self.centers = { age_mean/len(x) , salary_mean/len(x)   }\n",
        "\n",
        "    return self\n",
        "  "
      ]
    },
    {
      "cell_type": "code",
      "execution_count": 104,
      "metadata": {},
      "outputs": [
        {
          "data": {
            "text/plain": [
              "{29.5, 1375.4875}"
            ]
          },
          "execution_count": 104,
          "metadata": {},
          "output_type": "execute_result"
        }
      ],
      "source": [
        "# Run test\n",
        "km=Kmeans(k=2)\n",
        "km.fit(X)\n",
        "km.centers"
      ]
    },
    {
      "cell_type": "markdown",
      "metadata": {
        "id": "x2SouTeNsBCO"
      },
      "source": [
        "Step 5. Define the prediction process"
      ]
    },
    {
      "cell_type": "code",
      "execution_count": 105,
      "metadata": {
        "id": "YrTE2xEJsC2P"
      },
      "outputs": [],
      "source": [
        "# The prediction process of Kmeans is implemented in predict() function\n",
        "# Define predict() function that :\n",
        "# - takes as input an employee vector x\n",
        "# - predicts the label of cluster (an integer) to which x belongs, ie it can be {0,1,..,k-1}\n",
        "# - returns the predicted label\n",
        "class Kmeans :\n",
        "  def __init__(self, k=2):\n",
        "    self.k= k\n",
        "    self.centers= None\n",
        "  def fit(self, x):\n",
        "    age_mean = 0\n",
        "    salary_mean = 0\n",
        "  \n",
        "    for i in range(1, len(x) ):\n",
        "      age_mean += x[i][0]\n",
        "      salary_mean += x[i][1]\n",
        "\n",
        "    self.centers = { age_mean/len(x) , salary_mean/len(x)   }\n",
        "    return self\n",
        "  def predict(self, x):\n",
        "    #?\n",
        "    x\n",
        "    label = 0\n",
        "    return label"
      ]
    },
    {
      "cell_type": "code",
      "execution_count": 106,
      "metadata": {},
      "outputs": [
        {
          "data": {
            "text/plain": [
              "0"
            ]
          },
          "execution_count": 106,
          "metadata": {},
          "output_type": "execute_result"
        }
      ],
      "source": [
        "# Run test\n",
        "# predict which cluster a new employe x with age=29 and salary=1400 belongs to\n",
        "x=np.array([29,1400])\n",
        "km=Kmeans(k=2)\n",
        "km.fit(X)\n",
        "label=km.predict(x)\n",
        "label"
      ]
    }
  ],
  "metadata": {
    "colab": {
      "provenance": []
    },
    "kernelspec": {
      "display_name": "Python 3",
      "name": "python3"
    },
    "language_info": {
      "codemirror_mode": {
        "name": "ipython",
        "version": 3
      },
      "file_extension": ".py",
      "mimetype": "text/x-python",
      "name": "python",
      "nbconvert_exporter": "python",
      "pygments_lexer": "ipython3",
      "version": "3.11.5"
    }
  },
  "nbformat": 4,
  "nbformat_minor": 0
}
