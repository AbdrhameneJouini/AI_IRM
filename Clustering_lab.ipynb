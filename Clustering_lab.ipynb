{
  "cells": [
    {
      "cell_type": "markdown",
      "metadata": {},
      "source": [
        "The goal of this Lab is to implement the clustering technique Kmeans as a Python class.\n",
        "\n",
        "To do it, follow the steps below.\n",
        "\n",
        "Meanwhile, we will test Kmeans implementation using a training population of employees.\n",
        "\n",
        "<b>Todo :</b> Replace <font color=red>#?</font> by an appropriate Python code"
      ]
    },
    {
      "cell_type": "markdown",
      "metadata": {
        "id": "RZE688fxoVxA"
      },
      "source": [
        "Step 1. Define a training dataset of employees"
      ]
    },
    {
      "cell_type": "code",
      "execution_count": 6,
      "metadata": {
        "id": "ZNqbYnVqqCv-"
      },
      "outputs": [],
      "source": [
        "import numpy as np\n",
        "import math\n",
        "import random"
      ]
    },
    {
      "cell_type": "code",
      "execution_count": 7,
      "metadata": {
        "id": "y9LorviaoTrM"
      },
      "outputs": [
        {
          "name": "stdout",
          "output_type": "stream",
          "text": [
            "[  30.  1300.5]\n"
          ]
        }
      ],
      "source": [
        "# Declare a numpy matrix denoted X\n",
        "# It represents a population of employees\n",
        "# The matrix rows are employees\n",
        "# The matrix columns are their properties : age and salary\n",
        "# The data of employees : (30,1300.5) , (48, 2500.7) , (25, 1100.5) , (45, 1900.75)\n",
        "X= np.array( [  [30 , 1300.5] , [48, 2500.7] , [25, 1100.5] , [45, 1900.75]  ] )\n",
        "print(X[0])"
      ]
    },
    {
      "cell_type": "markdown",
      "metadata": {
        "id": "2BjjG_LfqGY2"
      },
      "source": [
        "Step 2. Define Kmeans hyperparameters"
      ]
    },
    {
      "cell_type": "code",
      "execution_count": 8,
      "metadata": {
        "id": "47kFHzcXrHww"
      },
      "outputs": [],
      "source": [
        "# Kmeans hyperparameters are defined as attributes\n",
        "# The most important hyperparameter of Kmeans is the number of clusters.\n",
        "# It is manually assigned.\n",
        "# It denoted k \n",
        "# It has 2 as default value\n",
        "# Complete the code\n",
        "class Kmeans :\n",
        "  def __init__(self, k=2):\n",
        "    self.k = k "
      ]
    },
    {
      "cell_type": "code",
      "execution_count": 9,
      "metadata": {},
      "outputs": [
        {
          "data": {
            "text/plain": [
              "2"
            ]
          },
          "execution_count": 9,
          "metadata": {},
          "output_type": "execute_result"
        }
      ],
      "source": [
        "# Run test\n",
        "km=Kmeans(k=2)\n",
        "km.k"
      ]
    },
    {
      "cell_type": "markdown",
      "metadata": {
        "id": "0IyaPzv1rUqf"
      },
      "source": [
        "Step 3. Define Kmeans model parameters"
      ]
    },
    {
      "cell_type": "code",
      "execution_count": 10,
      "metadata": {
        "id": "FXtqXpA9rXF7"
      },
      "outputs": [],
      "source": [
        "# Kmeans parameters are defined as attributes\n",
        "# Kmeans has one parameter : It is the cluster centers\n",
        "# It is denoted centers\n",
        "# It is assigned None value before learning process\n",
        "# Complete the code :\n",
        "class Kmeans :\n",
        "  def __init__(self, k=2):\n",
        "    self.k= k\n",
        "    self.centers= None"
      ]
    },
    {
      "cell_type": "code",
      "execution_count": 11,
      "metadata": {},
      "outputs": [],
      "source": [
        "# Run test\n",
        "km=Kmeans(k=2)\n",
        "km.centers"
      ]
    },
    {
      "cell_type": "markdown",
      "metadata": {
        "id": "1hz772-Cr9DW"
      },
      "source": [
        "Step 4. Define the learning process"
      ]
    },
    {
      "cell_type": "code",
      "execution_count": 12,
      "metadata": {
        "id": "T8OCO6afsAga"
      },
      "outputs": [],
      "source": [
        "# The learning process of Kmeans is implemented in fit() function\n",
        "# Define fit() function that :\n",
        "# - takes as input training data matrix X\n",
        "# - iteratively estimates the cluster centers\n",
        "# - returns the class object (self)\n",
        "class Kmeans :\n",
        "  def __init__(self, k=2):\n",
        "    self.k= k\n",
        "    self.centers= None\n",
        "  \n",
        "  def fit(self, x):\n",
        "    # predict the center of each cluster ( k cluster ?)\n",
        "    # for each center choose a random number between the min and max\n",
        "\n",
        "    min_aage = x[0]\n",
        "    max_age = x[0]\n",
        "    min_sal = x[0]\n",
        "    max_sal = x[0]\n",
        "\n",
        "    for i in range(1,self.k-1) :\n",
        "        \n",
        "      if x[i][0] < min_age :\n",
        "           min_age = x[i][0]\n",
        "          \n",
        "      if x[i][0] > max_age :\n",
        "           max_age = x[i][0]\n",
        "\n",
        "      if x[i][1] < min_sal :\n",
        "           min_sal = x[i][0]\n",
        "\n",
        "      if x[i][1] > max_sal :\n",
        "           max_sal = x[i][0]\n",
        "\n",
        "      for i in range(1, self.k) :\n",
        "         center = { \"age\" : random.randrange(min_age,max_age) , \"salary\" : random.randrange(min_sal,max_sal) }\n",
        "\n",
        "         self.centers.add(center)\n",
        "\n",
        "      for i in range(0, self.k ) :\n",
        "            min_distance = float('inf')\n",
        "      \n",
        "            centroid = None\n",
        "   \n",
        "            for center in self.centers :\n",
        "               distance = math.sqrt(( x[0] - center.age )**2 + ( x[1] - center.salary  )**2 )\n",
        "\n",
        "               if distance < min_distance :\n",
        "                  min_distance = distance\n",
        "                  centroid = center\n",
        "            \n",
        "            self.centers[centroid].points_list.add( x[i] )\n",
        "         \n",
        "\n",
        "\n",
        "\n",
        "\n",
        "    return self\n",
        "  "
      ]
    },
    {
      "cell_type": "code",
      "execution_count": 13,
      "metadata": {},
      "outputs": [],
      "source": [
        "# Run test\n",
        "km=Kmeans(k=2)\n",
        "km.fit(X)\n",
        "km.centers"
      ]
    },
    {
      "cell_type": "markdown",
      "metadata": {
        "id": "x2SouTeNsBCO"
      },
      "source": [
        "Step 5. Define the prediction process"
      ]
    },
    {
      "cell_type": "code",
      "execution_count": 14,
      "metadata": {
        "id": "YrTE2xEJsC2P"
      },
      "outputs": [],
      "source": [
        "# The prediction process of Kmeans is implemented in predict() function\n",
        "# Define predict() function that :\n",
        "# - takes as input an employee vector x\n",
        "# - predicts the label of cluster (an integer) to which x belongs, ie it can be {0,1,..,k-1}\n",
        "# - returns the predicted label\n",
        "\n",
        "class Kmeans :\n",
        "  def __init__(self, k=2):\n",
        "    self.k= k\n",
        "    self.centers= None\n",
        "  def fit(self, x):\n",
        "    \n",
        "   \n",
        "    return self\n",
        "  def predict(self, x):\n",
        "    #?\n",
        "    min_distance = float('inf')\n",
        "    index = 0\n",
        "    label = 0 \n",
        " \n",
        "\n",
        "    for center in self.centers :\n",
        "      distance = math.sqrt(( x[0] - center.age )**2 + ( x[1] - center.salary  )**2 )\n",
        "\n",
        "      if distance < min_distance :\n",
        "          min_distance = distance\n",
        "          label = index\n",
        "      index += 1\n",
        "    \n",
        "\n",
        "\n",
        "    \n",
        "    \n",
        "    return label"
      ]
    },
    {
      "cell_type": "code",
      "execution_count": 15,
      "metadata": {},
      "outputs": [
        {
          "ename": "TypeError",
          "evalue": "'NoneType' object is not iterable",
          "output_type": "error",
          "traceback": [
            "\u001b[1;31m---------------------------------------------------------------------------\u001b[0m",
            "\u001b[1;31mTypeError\u001b[0m                                 Traceback (most recent call last)",
            "\u001b[1;32mc:\\Users\\abdou\\OneDrive\\Bureau\\AI\\AI_course\\Clustering_lab.ipynb Cell 16\u001b[0m line \u001b[0;36m6\n\u001b[0;32m      <a href='vscode-notebook-cell:/c%3A/Users/abdou/OneDrive/Bureau/AI/AI_course/Clustering_lab.ipynb#X21sZmlsZQ%3D%3D?line=3'>4</a>\u001b[0m km\u001b[39m=\u001b[39mKmeans(k\u001b[39m=\u001b[39m\u001b[39m2\u001b[39m)\n\u001b[0;32m      <a href='vscode-notebook-cell:/c%3A/Users/abdou/OneDrive/Bureau/AI/AI_course/Clustering_lab.ipynb#X21sZmlsZQ%3D%3D?line=4'>5</a>\u001b[0m km\u001b[39m.\u001b[39mfit(X)\n\u001b[1;32m----> <a href='vscode-notebook-cell:/c%3A/Users/abdou/OneDrive/Bureau/AI/AI_course/Clustering_lab.ipynb#X21sZmlsZQ%3D%3D?line=5'>6</a>\u001b[0m label\u001b[39m=\u001b[39mkm\u001b[39m.\u001b[39;49mpredict(x)\n\u001b[0;32m      <a href='vscode-notebook-cell:/c%3A/Users/abdou/OneDrive/Bureau/AI/AI_course/Clustering_lab.ipynb#X21sZmlsZQ%3D%3D?line=6'>7</a>\u001b[0m label\n",
            "\u001b[1;32mc:\\Users\\abdou\\OneDrive\\Bureau\\AI\\AI_course\\Clustering_lab.ipynb Cell 16\u001b[0m line \u001b[0;36m2\n\u001b[0;32m     <a href='vscode-notebook-cell:/c%3A/Users/abdou/OneDrive/Bureau/AI/AI_course/Clustering_lab.ipynb#X21sZmlsZQ%3D%3D?line=17'>18</a>\u001b[0m index \u001b[39m=\u001b[39m \u001b[39m0\u001b[39m\n\u001b[0;32m     <a href='vscode-notebook-cell:/c%3A/Users/abdou/OneDrive/Bureau/AI/AI_course/Clustering_lab.ipynb#X21sZmlsZQ%3D%3D?line=18'>19</a>\u001b[0m label \u001b[39m=\u001b[39m \u001b[39m0\u001b[39m \n\u001b[1;32m---> <a href='vscode-notebook-cell:/c%3A/Users/abdou/OneDrive/Bureau/AI/AI_course/Clustering_lab.ipynb#X21sZmlsZQ%3D%3D?line=21'>22</a>\u001b[0m \u001b[39mfor\u001b[39;00m center \u001b[39min\u001b[39;00m \u001b[39mself\u001b[39m\u001b[39m.\u001b[39mcenters :\n\u001b[0;32m     <a href='vscode-notebook-cell:/c%3A/Users/abdou/OneDrive/Bureau/AI/AI_course/Clustering_lab.ipynb#X21sZmlsZQ%3D%3D?line=22'>23</a>\u001b[0m   distance \u001b[39m=\u001b[39m math\u001b[39m.\u001b[39msqrt(( x[\u001b[39m0\u001b[39m] \u001b[39m-\u001b[39m center\u001b[39m.\u001b[39mage )\u001b[39m*\u001b[39m\u001b[39m*\u001b[39m\u001b[39m2\u001b[39m \u001b[39m+\u001b[39m ( x[\u001b[39m1\u001b[39m] \u001b[39m-\u001b[39m center\u001b[39m.\u001b[39msalary  )\u001b[39m*\u001b[39m\u001b[39m*\u001b[39m\u001b[39m2\u001b[39m )\n\u001b[0;32m     <a href='vscode-notebook-cell:/c%3A/Users/abdou/OneDrive/Bureau/AI/AI_course/Clustering_lab.ipynb#X21sZmlsZQ%3D%3D?line=24'>25</a>\u001b[0m   \u001b[39mif\u001b[39;00m distance \u001b[39m<\u001b[39m min_distance :\n",
            "\u001b[1;31mTypeError\u001b[0m: 'NoneType' object is not iterable"
          ]
        }
      ],
      "source": [
        "# Run test\n",
        "# predict which cluster a new employe x with age=29 and salary=1400 belongs to\n",
        "x=np.array([29,1400])\n",
        "km=Kmeans(k=2)\n",
        "km.fit(X)\n",
        "label=km.predict(x)\n",
        "label"
      ]
    }
  ],
  "metadata": {
    "colab": {
      "provenance": []
    },
    "kernelspec": {
      "display_name": "Python 3",
      "name": "python3"
    },
    "language_info": {
      "codemirror_mode": {
        "name": "ipython",
        "version": 3
      },
      "file_extension": ".py",
      "mimetype": "text/x-python",
      "name": "python",
      "nbconvert_exporter": "python",
      "pygments_lexer": "ipython3",
      "version": "3.11.5"
    }
  },
  "nbformat": 4,
  "nbformat_minor": 0
}
