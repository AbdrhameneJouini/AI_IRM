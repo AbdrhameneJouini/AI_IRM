{
  "nbformat": 4,
  "nbformat_minor": 0,
  "metadata": {
    "colab": {
      "provenance": []
    },
    "kernelspec": {
      "name": "python3",
      "display_name": "Python 3"
    },
    "language_info": {
      "name": "python"
    }
  },
  "cells": [
    {
      "cell_type": "markdown",
      "source": [
        "1. Define the training dataset"
      ],
      "metadata": {
        "id": "RZE688fxoVxA"
      }
    },
    {
      "cell_type": "code",
      "source": [
        "import numpy as np"
      ],
      "metadata": {
        "id": "ZNqbYnVqqCv-"
      },
      "execution_count": null,
      "outputs": []
    },
    {
      "cell_type": "code",
      "execution_count": null,
      "metadata": {
        "id": "y9LorviaoTrM"
      },
      "outputs": [],
      "source": [
        "# Declare a numpy matrix called X\n",
        "# It represents a population of the follwoing employees\n",
        "# The matrix rows are employees\n",
        "# The matrix columsn are their properties : age and salary\n",
        "# The employees are : (30,1300.5) , (48, 2500.7) , (25, 1100.5) , (45, 1900.75)\n",
        "X=#?"
      ]
    },
    {
      "cell_type": "markdown",
      "source": [
        "2. Define the hyperparameters"
      ],
      "metadata": {
        "id": "2BjjG_LfqGY2"
      }
    },
    {
      "cell_type": "code",
      "source": [
        "# Kmeans hyperparameters are defined as attributes\n",
        "# Kmean hyperparameters is the number of clusters and it denoted K\n",
        "# Complete the code\n",
        "class Kmeans :\n",
        "  def __init__(self,#?):\n",
        "    self.k=#?"
      ],
      "metadata": {
        "id": "47kFHzcXrHww"
      },
      "execution_count": null,
      "outputs": []
    },
    {
      "cell_type": "markdown",
      "source": [
        "3. Define the parameters"
      ],
      "metadata": {
        "id": "0IyaPzv1rUqf"
      }
    },
    {
      "cell_type": "code",
      "source": [
        "# Kmeans parameters are defined as attributes\n",
        "# Kmeans parameter is the cluster centers and it is denoted centers\n",
        "# It is a matrix of shape Kxdim , where dim is the data dimension\n",
        "# Complete the code\n",
        "class Kmeans :\n",
        "  def __init__(self):\n",
        "    self.k=#?\n",
        "    self.centers=#?"
      ],
      "metadata": {
        "id": "FXtqXpA9rXF7"
      },
      "execution_count": null,
      "outputs": []
    },
    {
      "cell_type": "markdown",
      "source": [
        "4. Define the learning process"
      ],
      "metadata": {
        "id": "1hz772-Cr9DW"
      }
    },
    {
      "cell_type": "code",
      "source": [
        "# Implement the learning process of Kmeans\n",
        "# Define fit() function that takes as input training data matrix (X)\n",
        "# It estimates the cluster centers (M)\n",
        "# It returns the object (self)\n",
        "class Kmeans :\n",
        "  def __init__(self):\n",
        "    self.k=#?\n",
        "    self.centers=#?\n",
        "  def fit(self,#?):\n",
        "    #?\n",
        "    return self"
      ],
      "metadata": {
        "id": "T8OCO6afsAga"
      },
      "execution_count": null,
      "outputs": []
    },
    {
      "cell_type": "markdown",
      "source": [
        "5. Define the prediction process"
      ],
      "metadata": {
        "id": "x2SouTeNsBCO"
      }
    },
    {
      "cell_type": "code",
      "source": [
        "# Implement the prediction process of Kmeans\n",
        "# Define predict() function that takes as input a data vecteur (x), ie one employee informations\n",
        "# It predicts the label of cluster (an integer) to which x belongs, ie it can be {0,1,..,K-1}\n",
        "# It returns the predicted label\n",
        "class Kmeans :\n",
        "  def __init__(self):\n",
        "    self.k=#?\n",
        "    self.centers=#?\n",
        "  def fit(self,#?):\n",
        "    #?\n",
        "    return self\n",
        "  def predict(self,#?):\n",
        "    #?\n",
        "    return label"
      ],
      "metadata": {
        "id": "YrTE2xEJsC2P"
      },
      "execution_count": null,
      "outputs": []
    },
    {
      "cell_type": "markdown",
      "source": [
        "6. Apply learning"
      ],
      "metadata": {
        "id": "ibV7G3RpsDTf"
      }
    },
    {
      "cell_type": "code",
      "source": [
        "# We create an instance of Kmeans.\n",
        "km=#?"
      ],
      "metadata": {
        "id": "vdTbjiSosGcz"
      },
      "execution_count": null,
      "outputs": []
    },
    {
      "cell_type": "code",
      "source": [
        "# Call fit() function to learn the Kmeans model\n",
        "km.#?"
      ],
      "metadata": {
        "id": "jaGhx2JvIQ5H"
      },
      "execution_count": null,
      "outputs": []
    },
    {
      "cell_type": "markdown",
      "source": [
        "7. Apply prediction"
      ],
      "metadata": {
        "id": "M1gtWAIjsG8W"
      }
    },
    {
      "cell_type": "code",
      "source": [
        "# Create a new employee x=(29,1400)\n",
        "em=#?"
      ],
      "metadata": {
        "id": "tNtKLfJ1sIp2"
      },
      "execution_count": null,
      "outputs": []
    },
    {
      "cell_type": "code",
      "source": [
        "# Predict the label of cluster to which the new employee belongs\n",
        "label=km.#?"
      ],
      "metadata": {
        "id": "6_uUml2BIe9w"
      },
      "execution_count": null,
      "outputs": []
    }
  ]
}