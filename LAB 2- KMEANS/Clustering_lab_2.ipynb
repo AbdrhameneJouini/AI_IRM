{
  "cells": [
    {
      "cell_type": "markdown",
      "metadata": {},
      "source": [
        "**Clustering of a simple dataset using Kmeans**\n",
        "\n",
        "<u>Goal:</u>\n",
        "\n",
        "The main goal is to learn how to use Kmeans with scikit-learn library\"\n",
        "\n",
        "<u>To do:</u>\n",
        "\n",
        "Complete the source code whenever you find <font color='red'>#?</font>"
      ]
    },
    {
      "cell_type": "markdown",
      "metadata": {
        "id": "r7H-PzjB8HwW"
      },
      "source": [
        "This case study concerns simple employee data.\n",
        "\n",
        "This data does not require preprocessing.\n",
        "\n",
        "The goal is to :\n",
        "- From a population of employees, apply Kmeans to find its clusters.\n",
        "- Given a new employee, predict the label of the cluster to which he belongs."
      ]
    },
    {
      "cell_type": "markdown",
      "metadata": {
        "id": "TPjaqXMU8QwN"
      },
      "source": [
        "**1. Training dataset**"
      ]
    },
    {
      "cell_type": "markdown",
      "metadata": {},
      "source": [
        "The training dataset is a <font color='red'>data table</font> where :\n",
        "- Rows are employees\n",
        "- Columns are their two numerical caracteristics : age and salary\n",
        "\n",
        "In python, the easiest way to create a numerical data table is as a <font color='red'>numpy matrix</font>."
      ]
    },
    {
      "cell_type": "code",
      "execution_count": 116,
      "metadata": {},
      "outputs": [],
      "source": [
        "# Import numpy module and give it np as alias\n",
        "import numpy as np"
      ]
    },
    {
      "cell_type": "code",
      "execution_count": 117,
      "metadata": {
        "colab": {
          "base_uri": "https://localhost:8080/",
          "height": 238
        },
        "id": "_OeP9pkgGWcw",
        "outputId": "0789213b-411d-4205-f174-6598c56fd85d"
      },
      "outputs": [
        {
          "data": {
            "text/plain": [
              "array([[1200,   25],\n",
              "       [1300,   27],\n",
              "       [1100,   27],\n",
              "       [2500,   49],\n",
              "       [2400,   47],\n",
              "       [2600,   45]])"
            ]
          },
          "execution_count": 117,
          "metadata": {},
          "output_type": "execute_result"
        }
      ],
      "source": [
        "# The data of employees is :\n",
        "# [[1200,25],\n",
        "# [1300,27],\n",
        "# [1100,27],\n",
        "# [2500,49],\n",
        "# [2400,47],\n",
        "# [2600,45]]\n",
        "\n",
        "# Create a numpy matrix called X using np.array() function\n",
        "# You pass as argument the list of lists of employees above\n",
        "X = np.array(  [[1200,25], \n",
        "                 [1300,27],\n",
        "[1100,27],\n",
        " [2500,49],\n",
        " [2400,47],\n",
        " [2600,45]]  )\n",
        "X"
      ]
    },
    {
      "cell_type": "markdown",
      "metadata": {
        "id": "DK0hfldC8hT9"
      },
      "source": [
        "**2. Learning process using Kmeans**\n",
        "\n",
        "scikit-learn package implements most of the machine learning algorithms.\n",
        "In particular, <font color='red'>Kmeans</font> is implemented as <font color='red'>KMeans class</font> in <font color='red'>sklearn.cluster</font> module.\n",
        "\n",
        "KMeans class has :\n",
        "- a <font color='red'>constructor function</font> that allows to initialize hyperparameters\n",
        "- a <font color='red'>fit()</font> function that allows to fit the model given the training data\n",
        "- a <font color='red'>predict()</font> function that allows to predict the cluster label for a given new data"
      ]
    },
    {
      "cell_type": "code",
      "execution_count": 118,
      "metadata": {
        "id": "g9upC0368SxM"
      },
      "outputs": [],
      "source": [
        "# Import KMeans class\n",
        "from sklearn.cluster import KMeans"
      ]
    },
    {
      "cell_type": "code",
      "execution_count": 119,
      "metadata": {
        "colab": {
          "base_uri": "https://localhost:8080/"
        },
        "id": "sU9A-v67IdOC",
        "outputId": "82f5f0d1-5a1f-4f1e-c75f-312f5be7e53a"
      },
      "outputs": [],
      "source": [
        "# Create a KMeans instance denoted km from KMeans class\n",
        "# Initialize the hyperparameters :\n",
        "# - n_clusters : it is the main hyperparameter of Kmeans and it represents the number of clusters\n",
        "#   => In our case, the initial number of clusters = 2\n",
        "# - random_state : this is an optional hyperparameter \n",
        "#   => It makes the random choice of initial cluster center values more deterministic\n",
        "#   => We can give any value, for example random_state=0\n",
        "\n",
        "km = KMeans(n_clusters = 2 , random_state = 0)"
      ]
    },
    {
      "cell_type": "code",
      "execution_count": 120,
      "metadata": {},
      "outputs": [
        {
          "name": "stderr",
          "output_type": "stream",
          "text": [
            "C:\\Users\\abdou\\AppData\\Local\\Packages\\PythonSoftwareFoundation.Python.3.11_qbz5n2kfra8p0\\LocalCache\\local-packages\\Python311\\site-packages\\sklearn\\cluster\\_kmeans.py:1416: FutureWarning: The default value of `n_init` will change from 10 to 'auto' in 1.4. Set the value of `n_init` explicitly to suppress the warning\n",
            "  super()._check_params_vs_input(X, default_n_init=10)\n"
          ]
        },
        {
          "data": {
            "text/html": [
              "<style>#sk-container-id-8 {color: black;}#sk-container-id-8 pre{padding: 0;}#sk-container-id-8 div.sk-toggleable {background-color: white;}#sk-container-id-8 label.sk-toggleable__label {cursor: pointer;display: block;width: 100%;margin-bottom: 0;padding: 0.3em;box-sizing: border-box;text-align: center;}#sk-container-id-8 label.sk-toggleable__label-arrow:before {content: \"▸\";float: left;margin-right: 0.25em;color: #696969;}#sk-container-id-8 label.sk-toggleable__label-arrow:hover:before {color: black;}#sk-container-id-8 div.sk-estimator:hover label.sk-toggleable__label-arrow:before {color: black;}#sk-container-id-8 div.sk-toggleable__content {max-height: 0;max-width: 0;overflow: hidden;text-align: left;background-color: #f0f8ff;}#sk-container-id-8 div.sk-toggleable__content pre {margin: 0.2em;color: black;border-radius: 0.25em;background-color: #f0f8ff;}#sk-container-id-8 input.sk-toggleable__control:checked~div.sk-toggleable__content {max-height: 200px;max-width: 100%;overflow: auto;}#sk-container-id-8 input.sk-toggleable__control:checked~label.sk-toggleable__label-arrow:before {content: \"▾\";}#sk-container-id-8 div.sk-estimator input.sk-toggleable__control:checked~label.sk-toggleable__label {background-color: #d4ebff;}#sk-container-id-8 div.sk-label input.sk-toggleable__control:checked~label.sk-toggleable__label {background-color: #d4ebff;}#sk-container-id-8 input.sk-hidden--visually {border: 0;clip: rect(1px 1px 1px 1px);clip: rect(1px, 1px, 1px, 1px);height: 1px;margin: -1px;overflow: hidden;padding: 0;position: absolute;width: 1px;}#sk-container-id-8 div.sk-estimator {font-family: monospace;background-color: #f0f8ff;border: 1px dotted black;border-radius: 0.25em;box-sizing: border-box;margin-bottom: 0.5em;}#sk-container-id-8 div.sk-estimator:hover {background-color: #d4ebff;}#sk-container-id-8 div.sk-parallel-item::after {content: \"\";width: 100%;border-bottom: 1px solid gray;flex-grow: 1;}#sk-container-id-8 div.sk-label:hover label.sk-toggleable__label {background-color: #d4ebff;}#sk-container-id-8 div.sk-serial::before {content: \"\";position: absolute;border-left: 1px solid gray;box-sizing: border-box;top: 0;bottom: 0;left: 50%;z-index: 0;}#sk-container-id-8 div.sk-serial {display: flex;flex-direction: column;align-items: center;background-color: white;padding-right: 0.2em;padding-left: 0.2em;position: relative;}#sk-container-id-8 div.sk-item {position: relative;z-index: 1;}#sk-container-id-8 div.sk-parallel {display: flex;align-items: stretch;justify-content: center;background-color: white;position: relative;}#sk-container-id-8 div.sk-item::before, #sk-container-id-8 div.sk-parallel-item::before {content: \"\";position: absolute;border-left: 1px solid gray;box-sizing: border-box;top: 0;bottom: 0;left: 50%;z-index: -1;}#sk-container-id-8 div.sk-parallel-item {display: flex;flex-direction: column;z-index: 1;position: relative;background-color: white;}#sk-container-id-8 div.sk-parallel-item:first-child::after {align-self: flex-end;width: 50%;}#sk-container-id-8 div.sk-parallel-item:last-child::after {align-self: flex-start;width: 50%;}#sk-container-id-8 div.sk-parallel-item:only-child::after {width: 0;}#sk-container-id-8 div.sk-dashed-wrapped {border: 1px dashed gray;margin: 0 0.4em 0.5em 0.4em;box-sizing: border-box;padding-bottom: 0.4em;background-color: white;}#sk-container-id-8 div.sk-label label {font-family: monospace;font-weight: bold;display: inline-block;line-height: 1.2em;}#sk-container-id-8 div.sk-label-container {text-align: center;}#sk-container-id-8 div.sk-container {/* jupyter's `normalize.less` sets `[hidden] { display: none; }` but bootstrap.min.css set `[hidden] { display: none !important; }` so we also need the `!important` here to be able to override the default hidden behavior on the sphinx rendered scikit-learn.org. See: https://github.com/scikit-learn/scikit-learn/issues/21755 */display: inline-block !important;position: relative;}#sk-container-id-8 div.sk-text-repr-fallback {display: none;}</style><div id=\"sk-container-id-8\" class=\"sk-top-container\"><div class=\"sk-text-repr-fallback\"><pre>KMeans(n_clusters=2, random_state=0)</pre><b>In a Jupyter environment, please rerun this cell to show the HTML representation or trust the notebook. <br />On GitHub, the HTML representation is unable to render, please try loading this page with nbviewer.org.</b></div><div class=\"sk-container\" hidden><div class=\"sk-item\"><div class=\"sk-estimator sk-toggleable\"><input class=\"sk-toggleable__control sk-hidden--visually\" id=\"sk-estimator-id-8\" type=\"checkbox\" checked><label for=\"sk-estimator-id-8\" class=\"sk-toggleable__label sk-toggleable__label-arrow\">KMeans</label><div class=\"sk-toggleable__content\"><pre>KMeans(n_clusters=2, random_state=0)</pre></div></div></div></div></div>"
            ],
            "text/plain": [
              "KMeans(n_clusters=2, random_state=0)"
            ]
          },
          "execution_count": 120,
          "metadata": {},
          "output_type": "execute_result"
        }
      ],
      "source": [
        "# Call km.fit() function and pass the training data matrix X as an argument\n",
        "km.fit(X)"
      ]
    },
    {
      "cell_type": "markdown",
      "metadata": {},
      "source": [
        "**3. Show the clusters**\n",
        "\n",
        "Once the learning process is completed, we can determine the clusters"
      ]
    },
    {
      "cell_type": "code",
      "execution_count": 121,
      "metadata": {
        "colab": {
          "base_uri": "https://localhost:8080/"
        },
        "id": "a8Oy6LVZJOu7",
        "outputId": "9b467f71-7c6f-4b49-9997-5a1e04db78c9"
      },
      "outputs": [
        {
          "data": {
            "text/plain": [
              "array([[2500.        ,   47.        ],\n",
              "       [1200.        ,   26.33333333]])"
            ]
          },
          "execution_count": 121,
          "metadata": {},
          "output_type": "execute_result"
        }
      ],
      "source": [
        "# Show the centers of clusters using cluster_centers_ attribute of km\n",
        "km.cluster_centers_"
      ]
    },
    {
      "cell_type": "code",
      "execution_count": 122,
      "metadata": {},
      "outputs": [
        {
          "data": {
            "text/plain": [
              "array([1, 1, 1, 0, 0, 0])"
            ]
          },
          "execution_count": 122,
          "metadata": {},
          "output_type": "execute_result"
        }
      ],
      "source": [
        "# Predict the labels of clusters for the training data employees\n",
        "# Call km.predict() and pass the training data matrix X as argument\n",
        "labels=km.predict(X)\n",
        "labels"
      ]
    },
    {
      "cell_type": "code",
      "execution_count": 123,
      "metadata": {},
      "outputs": [],
      "source": [
        "# Show the clusters of training dataset\n",
        "cluster0=X[labels==0]\n",
        "cluster1=X[labels==1]"
      ]
    },
    {
      "cell_type": "code",
      "execution_count": 124,
      "metadata": {},
      "outputs": [
        {
          "data": {
            "text/plain": [
              "array([[2500,   49],\n",
              "       [2400,   47],\n",
              "       [2600,   45]])"
            ]
          },
          "execution_count": 124,
          "metadata": {},
          "output_type": "execute_result"
        }
      ],
      "source": [
        "# cluster 0\n",
        "cluster0"
      ]
    },
    {
      "cell_type": "code",
      "execution_count": 125,
      "metadata": {},
      "outputs": [
        {
          "data": {
            "text/plain": [
              "array([[1200,   25],\n",
              "       [1300,   27],\n",
              "       [1100,   27]])"
            ]
          },
          "execution_count": 125,
          "metadata": {},
          "output_type": "execute_result"
        }
      ],
      "source": [
        "# cluster 1\n",
        "cluster1"
      ]
    },
    {
      "cell_type": "markdown",
      "metadata": {
        "id": "JUqqpNYKF5w3"
      },
      "source": [
        "**4. Prediction process**\n",
        "\n",
        "Once the learning process is completed, we can predict the cluster label for a new employee"
      ]
    },
    {
      "cell_type": "code",
      "execution_count": 126,
      "metadata": {
        "colab": {
          "base_uri": "https://localhost:8080/",
          "height": 81
        },
        "id": "H6_DYvPU9RJc",
        "outputId": "899bbae8-e65b-4c74-8ba3-f0f55ab94767"
      },
      "outputs": [
        {
          "data": {
            "text/plain": [
              "array([[500.67,  24.  ]])"
            ]
          },
          "execution_count": 126,
          "metadata": {},
          "output_type": "execute_result"
        }
      ],
      "source": [
        "# Let emp_new be a new employee with age 24 and salary 500.67\n",
        "# We must create it as a numpy matrix of shape 1x2 : [[500.67,24]]\n",
        "emp_new = np.array([[500.67,24]])\n",
        "emp_new"
      ]
    },
    {
      "cell_type": "code",
      "execution_count": 127,
      "metadata": {
        "colab": {
          "base_uri": "https://localhost:8080/"
        },
        "id": "_Rbu6w6k9JgX",
        "outputId": "59f0809b-2ace-475a-e318-47f887477182"
      },
      "outputs": [
        {
          "data": {
            "text/plain": [
              "array([1])"
            ]
          },
          "execution_count": 127,
          "metadata": {},
          "output_type": "execute_result"
        }
      ],
      "source": [
        "# Predict the cluster label to which emp_new belongs\n",
        "label=km.predict(emp_new)\n",
        "label"
      ]
    },
    {
      "cell_type": "markdown",
      "metadata": {},
      "source": [
        "**5. Visualization of clusters**\n",
        "\n",
        "We can visualize the population and the obtained clusters using matplotlib library."
      ]
    },
    {
      "cell_type": "code",
      "execution_count": 128,
      "metadata": {},
      "outputs": [],
      "source": [
        "#  Import matplotlib.pyplot module and give it plt as alias\n",
        "import matplotlib.pyplot  as  plt\n"
      ]
    },
    {
      "cell_type": "markdown",
      "metadata": {},
      "source": [
        "At first, we try to visualize the population data points in a figure"
      ]
    },
    {
      "cell_type": "code",
      "execution_count": 129,
      "metadata": {},
      "outputs": [
        {
          "data": {
            "image/png": "[encoded data removed]",
            "text/plain": [
              "<Figure size 640x480 with 1 Axes>"
            ]
          },
          "metadata": {},
          "output_type": "display_data"
        }
      ],
      "source": [
        "# We want each employee to be represented by a dot colored red\n",
        "# We use the plt.plot() function\n",
        "# It takes as arguments:\n",
        "# - the first column of X as x coordinate\n",
        "# - the second column of X as y coordinate\n",
        "# - 'r+': the letter r designates the red color of the point and + designates the symbol of the point\n",
        "\n",
        "plt.plot(X[:,0],X[:,1],'r+')\n",
        "\n",
        "# We can give a labels for x-axis and y-axis\n",
        "plt.xlabel('Salary')\n",
        "plt.ylabel('Age')\n",
        "# We can give a title for the figure\n",
        "plt.title('Population of employees')\n",
        "plt.show()"
      ]
    },
    {
      "cell_type": "markdown",
      "metadata": {},
      "source": [
        "Now, copy-paste the code above and update it to visualize rather the clusters in the same figure"
      ]
    },
    {
      "cell_type": "code",
      "execution_count": 133,
      "metadata": {},
      "outputs": [
        {
          "data": {
            "image/png": "[encoded data removed]",
            "text/plain": [
              "<Figure size 640x480 with 1 Axes>"
            ]
          },
          "metadata": {},
          "output_type": "display_data"
        }
      ],
      "source": [
        "# Show the clusters using plt.plot()\n",
        "# The points of the first cluster cluster0 are colored in blue\n",
        "# The points of the first cluster cluster0 are colored in green\n",
        "# For each cluster associate a legend label\n",
        "plt.plot(cluster0[:,0],cluster0[:,1],\"b+\" ,label='cluster 0')\n",
        "plt.plot(cluster1[:,0],cluster1[:,1],\"g+\" ,label='cluster 1')\n",
        "# Show the cluster centers with yellow color and o symbol \n",
        "plt.plot(km.cluster_centers_[:,0],km.cluster_centers_[:,1],\"yo\", label='cluster centers')\n",
        "\n",
        "# To enable the legend, call plt.legend()\n",
        "plt.xlabel('Salary')\n",
        "plt.ylabel('Age')\n",
        "plt.legend()\n",
        "plt.title('Clusters of employees')\n",
        "plt.show()"
      ]
    }
  ],
  "metadata": {
    "colab": {
      "collapsed_sections": [],
      "provenance": []
    },
    "kernelspec": {
      "display_name": "Python 3",
      "name": "python3"
    },
    "language_info": {
      "codemirror_mode": {
        "name": "ipython",
        "version": 3
      },
      "file_extension": ".py",
      "mimetype": "text/x-python",
      "name": "python",
      "nbconvert_exporter": "python",
      "pygments_lexer": "ipython3",
      "version": "3.11.6"
    }
  },
  "nbformat": 4,
  "nbformat_minor": 0
}
